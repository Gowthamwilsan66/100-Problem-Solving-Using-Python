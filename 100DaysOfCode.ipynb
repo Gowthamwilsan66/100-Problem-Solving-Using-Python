{
  "nbformat": 4,
  "nbformat_minor": 0,
  "metadata": {
    "colab": {
      "name": "Copy of 100DaysOfCode.ipynb",
      "provenance": [],
      "collapsed_sections": []
    },
    "kernelspec": {
      "name": "python3",
      "display_name": "Python 3"
    }
  },
  "cells": [
    {
      "cell_type": "markdown",
      "metadata": {
        "id": "nGbVVqO3bt9p"
      },
      "source": [
        "#Day 1\n",
        " **Write a program which will find all such numbers which are divisible by 7 but are not a multiple of 5,\n",
        "between 2000 and 3200 (both included).\n",
        "The numbers obtained should be printed in a comma-separated sequence on a single line.**\n",
        "\n",
        "\n"
      ]
    },
    {
      "cell_type": "code",
      "source": [
        ""
      ],
      "metadata": {
        "id": "CLL9XHhk2ebF"
      },
      "execution_count": null,
      "outputs": []
    },
    {
      "cell_type": "code",
      "source": [
        ""
      ],
      "metadata": {
        "id": "3lmEvJDT1ZNU"
      },
      "execution_count": null,
      "outputs": []
    },
    {
      "cell_type": "code",
      "metadata": {
        "id": "EEG0BgwVbJbj"
      },
      "source": [
        "result=[]\n",
        "for i in range(2000,3201):\n",
        "  if(i%7==0 and not(i%5==0)):\n",
        "    result.append(str(i))\n",
        "print(result)\n",
        "print(\",\".join(result))"
      ],
      "execution_count": null,
      "outputs": []
    },
    {
      "cell_type": "markdown",
      "metadata": {
        "id": "v8YpRQ6pcASS"
      },
      "source": [
        "# Day 2 \n",
        "**Write a program which can compute the factorial of a given numbers.\n",
        "The results should be printed in a single line.**\n",
        "\n",
        "-----------\n",
        "```\n",
        "Suppose the following input is supplied to the program:\n",
        "8\n",
        "Then, the output should be:\n",
        "40320\n",
        "```\n",
        "\n",
        "\n",
        "\n"
      ]
    },
    {
      "cell_type": "code",
      "metadata": {
        "id": "w1gqA9P6pKDE"
      },
      "source": [
        "#using loop\n",
        "value=int(input(\"Enter the value : \"))\n",
        "result=1\n",
        "for i in range(1,8+1):\n",
        "  result*=i\n",
        "\n",
        "print(result)\n"
      ],
      "execution_count": null,
      "outputs": []
    },
    {
      "cell_type": "code",
      "metadata": {
        "id": "TLpoxvEHp-2v"
      },
      "source": [
        "#using Function\n",
        "def siddharfact(value):\n",
        "  if value==0:\n",
        "    return 1\n",
        "  return value*siddharfact(value-1)\n",
        "print(siddharfact(8))"
      ],
      "execution_count": null,
      "outputs": []
    },
    {
      "cell_type": "markdown",
      "metadata": {
        "id": "qezwGOhit_HF"
      },
      "source": [
        "#Day 3 \n",
        "\n",
        "**With a given integer number n, write a program to generate a dictionary that contains (i, i*i) such that is an integral number between 1 and n (both included). and then the program should print the dictionary.**\n",
        "\n",
        "\n",
        "```\n",
        "Suppose the following input is supplied to the program:\n",
        "8\n",
        "Then, the output should be:\n",
        "{1: 1, 2: 4, 3: 9, 4: 16, 5: 25, 6: 36, 7: 49, 8: 64}\n",
        "```\n",
        "\n"
      ]
    },
    {
      "cell_type": "code",
      "metadata": {
        "id": "MM7k0LbEwkfa"
      },
      "source": [
        "n=int(input(\"number : \"))\n",
        "d={}\n",
        "i=1\n",
        "while(i<n+1):\n",
        "  d[i]=i*i\n",
        "  i+=1\n",
        "print(d)"
      ],
      "execution_count": null,
      "outputs": []
    },
    {
      "cell_type": "markdown",
      "metadata": {
        "id": "_jMhqz947Vrs"
      },
      "source": [
        "# Day 4\n",
        "**Define a class which has at least two methods:**\n",
        "* **getString: to get a string from console input**\n",
        "* **printString: to print the string in upper case.**\n",
        "\n",
        "**Also please include simple test function to test the class methods.**\n",
        "```\n",
        "Hints:\n",
        "Use __init__ method to construct some parameters\n",
        "```\n"
      ]
    },
    {
      "cell_type": "code",
      "metadata": {
        "id": "4fSoyjf7BLgO"
      },
      "source": [
        "class siddhar():\n",
        "  def __init__(self):\n",
        "    print(\"init\")\n",
        "    self.name=\"\"\n",
        "  def getString(self):\n",
        "    self.name=input(\"Enter the name : \")\n",
        "  def printString(self):\n",
        "    print(self.name.upper())\n",
        "ob=siddhar()\n",
        "ob.getString()\n",
        "ob.printString()"
      ],
      "execution_count": null,
      "outputs": []
    },
    {
      "cell_type": "markdown",
      "metadata": {
        "id": "HNu2U9Ha1pwE"
      },
      "source": [
        "#Day 5\n",
        "**Write a program that accepts a sequence of whitespace separated words as input and prints the words after removing all duplicate words and sorting them alphanumerically.\n",
        "S**\n",
        "\n",
        "---\n",
        "\n",
        "```\n",
        "suppose the following input is supplied to the program:\n",
        "hello world and practice makes perfect and hello world again\n",
        "Then, the output should be:\n",
        "again and hello makes perfect practice world \n",
        "```\n",
        "\n",
        "\n",
        "\n"
      ]
    },
    {
      "cell_type": "code",
      "metadata": {
        "id": "tAk880cf-M7V"
      },
      "source": [
        "s=input(\"Enter the string : \")\n",
        "l=list(s.split(\" \"))\n",
        "l=set(l)\n",
        "l=list(l)\n",
        "l=sorted(l)\n",
        "print(\" \".join(l))"
      ],
      "execution_count": null,
      "outputs": []
    },
    {
      "cell_type": "markdown",
      "metadata": {
        "id": "dNePy5spVL9j"
      },
      "source": [
        "#Day 6\n",
        "**Write a program which accepts a sequence of comma separated 4 digit binary numbers as its input and then check whether they are divisible by 5 or not. The numbers that are divisible by 5 are to be printed in a comma separated sequence**\n",
        "\n",
        "---\n",
        "\n",
        "```\n",
        "Example:\n",
        "0100,0011,1010,1001\n",
        "Then the output should be:\n",
        "1010\n",
        "```\n",
        "\n",
        "\n"
      ]
    },
    {
      "cell_type": "code",
      "metadata": {
        "id": "_LOI7zFZW8fp"
      },
      "source": [
        "l=list(map(str,input(\"Enter the value : \").split(\",\")))\n",
        "temp=[]\n",
        "for i in l:\n",
        "  if(int(i,2)%5==0):\n",
        "    temp.append(i)\n",
        "print(\",\".join(temp))"
      ],
      "execution_count": null,
      "outputs": []
    },
    {
      "cell_type": "markdown",
      "metadata": {
        "id": "xO8OV0ifncX3"
      },
      "source": [
        "#Day 7\n",
        "\n",
        "**Write a program, which will find all such numbers between 1000 and 3000 (both included) such that each digit of the number is an even number.\n",
        "The numbers obtained should be printed in a comma-separated sequence on a single line**"
      ]
    },
    {
      "cell_type": "code",
      "metadata": {
        "id": "EDO8p4Y2t79g",
        "colab": {
          "base_uri": "https://localhost:8080/",
          "height": 55
        },
        "outputId": "92e6c2a1-105a-4790-e8cd-3bf41f86bc13"
      },
      "source": [
        "l=[]\n",
        "for i in range(1000,3001):\n",
        "\n",
        "  temp=str(i)\n",
        "  if(int(temp[0])%2==0 and int(temp[1])%2==0 and int(temp[2])%2==0 and int(temp[3])%2==0):\n",
        "    l.append(temp)\n",
        "print(\",\".join(l))"
      ],
      "execution_count": null,
      "outputs": [
        {
          "output_type": "stream",
          "text": [
            "2000,2002,2004,2006,2008,2020,2022,2024,2026,2028,2040,2042,2044,2046,2048,2060,2062,2064,2066,2068,2080,2082,2084,2086,2088,2200,2202,2204,2206,2208,2220,2222,2224,2226,2228,2240,2242,2244,2246,2248,2260,2262,2264,2266,2268,2280,2282,2284,2286,2288,2400,2402,2404,2406,2408,2420,2422,2424,2426,2428,2440,2442,2444,2446,2448,2460,2462,2464,2466,2468,2480,2482,2484,2486,2488,2600,2602,2604,2606,2608,2620,2622,2624,2626,2628,2640,2642,2644,2646,2648,2660,2662,2664,2666,2668,2680,2682,2684,2686,2688,2800,2802,2804,2806,2808,2820,2822,2824,2826,2828,2840,2842,2844,2846,2848,2860,2862,2864,2866,2868,2880,2882,2884,2886,2888\n"
          ],
          "name": "stdout"
        }
      ]
    },
    {
      "cell_type": "markdown",
      "metadata": {
        "id": "bfBFJSw0jEZI"
      },
      "source": [
        "#Day 8\n",
        "**Write a program that accepts a sentence and calculate the number of letters and digits.**\n",
        "\n",
        "\n",
        "\n",
        "```\n",
        "Suppose the following input is supplied to the program:\n",
        "hello world! 123\n",
        "Then, the output should be:\n",
        "LETTERS 10\n",
        "DIGITS 3\n",
        "```\n",
        "\n"
      ]
    },
    {
      "cell_type": "code",
      "metadata": {
        "id": "KUdc1nj5knjf"
      },
      "source": [
        "s=input(\"enter the value : \")\n",
        "s=list(s)\n",
        "digit=0\n",
        "letter=0\n",
        "for i in range(len(s)):\n",
        "  if s[i].isdigit():\n",
        "    digit+=1\n",
        "  elif(s[i].isalpha()):\n",
        "    letter+=1\n",
        "print(\"LETTERS\",str(letter))\n",
        "print(\"DIGITS\",str(digit))"
      ],
      "execution_count": null,
      "outputs": []
    },
    {
      "cell_type": "markdown",
      "metadata": {
        "id": "l_NFNpGXZc0B"
      },
      "source": [
        "#Day 9\n",
        "**Use a list comprehension to store each odd number in a list. The list is input by a sequence of comma-separated numbers.**\n",
        "\n",
        "\n",
        "\n",
        "---\n",
        "\n",
        "\n",
        "\n",
        "\n",
        "```\n",
        "Suppose the following input is supplied to the program:\n",
        "1,2,3,4,5,6,7,8,9\n",
        "Then, the output should be:\n",
        "1,3,5,7,9\n",
        "```\n",
        "\n"
      ]
    },
    {
      "cell_type": "code",
      "metadata": {
        "id": "BVM3IlP1b3D5"
      },
      "source": [
        "s=input(\"Values : \")\n",
        "l=[i for i in s.split(\",\") if int(i)%2!=0]\n",
        "print(\",\".join(l))"
      ],
      "execution_count": null,
      "outputs": []
    },
    {
      "cell_type": "markdown",
      "metadata": {
        "id": "bXMKuwmcgG3d"
      },
      "source": [
        "#Day 10\n",
        "**Write a program that computes the net amount of a bank account based a transaction log from console input.**\n",
        "\n",
        "\n",
        "---\n",
        "\n",
        "\n",
        "\n",
        "\n",
        "\n",
        "```\n",
        "The transaction log format is shown as following:\n",
        "D 100\n",
        "W 200\n",
        "D means deposit while W means withdrawal.**\n",
        "Suppose the following input is supplied to the program:\n",
        "D 300\n",
        "D 300\n",
        "W 200\n",
        "D 100\n",
        "Then, the output should be:\n",
        "500\n",
        "```\n"
      ]
    },
    {
      "cell_type": "code",
      "metadata": {
        "id": "DfRgOhNvig1N"
      },
      "source": [
        "balance=0\n",
        "while True:\n",
        "  s=input(\"Enter the value : \")\n",
        "  if s==\"\":\n",
        "    break\n",
        "  ttype,amount=s.split(\" \")\n",
        "  if(ttype==\"D\"):\n",
        "    balance+=int(amount)\n",
        "  else:\n",
        "    balance-=int(amount)\n",
        "print(balance)"
      ],
      "execution_count": null,
      "outputs": []
    },
    {
      "cell_type": "markdown",
      "metadata": {
        "id": "v3Jng8BMxQ8T"
      },
      "source": [
        "#Day 11\n",
        "**A website requires the users to input username and password to register. Write a program to check the validity of password input by users.\n",
        "Following are the criteria for checking the password:**\n",
        "1. At least 1 letter between [a-z]\n",
        "2. At least 1 number between [0-9]\n",
        "1. At least 1 letter between [A-Z]\n",
        "3. At least 1 character from [$#@]\n",
        "4. Minimum length of transaction password: 6\n",
        "5. Maximum length of transaction password: 12\n",
        "Your program should accept a sequence of comma separated passwords and will check them according to the above criteria. Passwords that match the criteria are to be printed, each separated by a comma.\n",
        "\n",
        "\n",
        "```\n",
        "Example\n",
        "If the following passwords are given as input to the program:\n",
        "ABd1234@1,a F1#,2w3E*,2We3345\n",
        "Then, the output of the program should be:\n",
        "ABd1234@1\n",
        "```\n",
        "\n",
        "\n",
        "\n",
        "\n"
      ]
    },
    {
      "cell_type": "code",
      "metadata": {
        "id": "pQ_x_6mjK4B0",
        "colab": {
          "base_uri": "https://localhost:8080/",
          "height": 54
        },
        "outputId": "a29a4706-c9ff-467b-b731-168c51dcb6ef"
      },
      "source": [
        "import re\n",
        "value=[]\n",
        "s=input(\"Enter the value : \")\n",
        "l=s.split(\",\")\n",
        "for i in l:\n",
        "  if len(i)<6 or len(i)>12:\n",
        "    continue\n",
        "  else:\n",
        "    pass\n",
        "  \n",
        "  if not re.search(\"[a-z]\",i):\n",
        "    continue\n",
        "  elif not re.search(\"[0-9]\",i):\n",
        "    continue\n",
        "  elif not re.search(\"[A-Z]\",i):\n",
        "    continue\n",
        "  elif not re.search(\"[@#$]\",i):\n",
        "    continue\n",
        "  else:\n",
        "    pass\n",
        "  value.append(i)\n",
        "\n",
        "print(\",\".join(value))"
      ],
      "execution_count": null,
      "outputs": [
        {
          "output_type": "stream",
          "text": [
            "Enter the value : ABd1234@1,a F1#,2w3E*,2We3345\n",
            "ABd1234@1\n"
          ],
          "name": "stdout"
        }
      ]
    },
    {
      "cell_type": "markdown",
      "metadata": {
        "id": "OExCCOma1oxx"
      },
      "source": [
        "#Day 12\n",
        "A robot moves in a plane starting from the original point (0,0). The robot can move toward UP, DOWN, LEFT and RIGHT with a given steps.\n",
        "\n",
        "\n",
        "```\n",
        "\n",
        "The trace of robot movement is shown as the following:\n",
        "UP 5\n",
        "DOWN 3\n",
        "LEFT 3\n",
        "RIGHT 2\n",
        "¡­\n",
        "The numbers after the direction are steps. Please write a program to compute the distance from current position after a sequence of movement and original point. If the distance is a float, then just print the nearest integer.\n",
        "```\n",
        "\n",
        "\n",
        "\n",
        "\n",
        "```\n",
        "Example:\n",
        "If the following tuples are given as input to the program:\n",
        "UP 5\n",
        "DOWN 3\n",
        "LEFT 3\n",
        "RIGHT 2\n",
        "Then, the output of the program should be:\n",
        "2\n",
        "```\n",
        "\n",
        "![alt text](https://www.wikihow.com/images/thumb/6/63/Find-the-Distance-Between-Two-Points-Step-6.jpg/aid2897060-v4-728px-Find-the-Distance-Between-Two-Points-Step-6.jpg.webp)"
      ]
    },
    {
      "cell_type": "code",
      "metadata": {
        "id": "-3B4eoFz2Mhw"
      },
      "source": [
        "import math\n",
        "pos = [0,0]\n",
        "while True:\n",
        "    s = input(\"Enter the value : \")\n",
        "    if s==\"\":\n",
        "        break\n",
        "    mov,val = s.split(\" \")\n",
        "    if mov==\"UP\":\n",
        "        pos[0]+=int(val)\n",
        "    elif mov==\"DOWN\":\n",
        "        pos[0]-=int(val)\n",
        "    elif mov==\"LEFT\":\n",
        "        pos[1]-=int(val)\n",
        "    elif mov==\"RIGHT\":\n",
        "        pos[1]+=int(val)\n",
        "    else:\n",
        "        pass\n",
        "\n",
        "print(round(math.sqrt(pos[1]**2+pos[0]**2)))"
      ],
      "execution_count": null,
      "outputs": []
    },
    {
      "cell_type": "markdown",
      "metadata": {
        "id": "MUI6avfnitNL"
      },
      "source": [
        "#Day 13\n",
        "**Write a program which can map() to make a list whose elements are square of elements in [1,2,3,4,5,6,7,8,9,10]**"
      ]
    },
    {
      "cell_type": "code",
      "metadata": {
        "id": "4KFkeGv2nm3I",
        "colab": {
          "base_uri": "https://localhost:8080/",
          "height": 54
        },
        "outputId": "58259870-0499-4c28-bb72-d5045035bfb7"
      },
      "source": [
        "l=list(map(int,input(\"Enter the value : \").split(\",\")))\n",
        "\n",
        "l=list(map(lambda x:x*2,l))\n",
        "print(l)"
      ],
      "execution_count": null,
      "outputs": [
        {
          "output_type": "stream",
          "text": [
            "Enter the value : 1,2,3,4,5,6,7,8,9,10\n",
            "[2, 4, 6, 8, 10, 12, 14, 16, 18, 20]\n"
          ],
          "name": "stdout"
        }
      ]
    },
    {
      "cell_type": "markdown",
      "metadata": {
        "id": "GtHr1p-z9epX"
      },
      "source": [
        "#Day 14\n",
        "\n",
        "**Write a program which can map() and filter() to make a list whose elements are square of even number in [1,2,3,4,5,6,7,8,9,10].**"
      ]
    },
    {
      "cell_type": "code",
      "metadata": {
        "id": "-50k5rre_BLX",
        "colab": {
          "base_uri": "https://localhost:8080/",
          "height": 54
        },
        "outputId": "3bd8b2c1-e859-4fae-a2da-578c126de5df"
      },
      "source": [
        "l=list(map(int,input(\"Enter the value : \").split(\",\")))\n",
        "\n",
        "l=list(map(lambda x:x**2,filter(lambda x:x%2==0,l )))\n",
        "print(l)"
      ],
      "execution_count": null,
      "outputs": [
        {
          "output_type": "stream",
          "text": [
            "Enter the value : 1,2,3,4,5,6,7,8,9,10\n",
            "[4, 16, 36, 64, 100]\n"
          ],
          "name": "stdout"
        }
      ]
    },
    {
      "cell_type": "markdown",
      "metadata": {
        "id": "RKT_Wq9ER2jU"
      },
      "source": [
        "#Day 15\n",
        "\n",
        "**Write a function to compute 5/0 and use try/except to catch the exceptions**"
      ]
    },
    {
      "cell_type": "code",
      "metadata": {
        "id": "KElDIK4bUtyL"
      },
      "source": [
        "a=5\n",
        "b=0\n",
        "try:\n",
        "  print(a/b)\n",
        "except TypeError:\n",
        "  print(\"string include\")\n",
        "except ZeroDivisionError:\n",
        "  print(\"Zero is included\")\n",
        "\n"
      ],
      "execution_count": null,
      "outputs": []
    },
    {
      "cell_type": "markdown",
      "metadata": {
        "id": "sPga1bU_g3Rq"
      },
      "source": [
        "#Day 16\n",
        "\n",
        "**Assuming that we have some email addresses in the \"username@companyname.com\" format, please write program to print the user name of a given email address. Both user names and company names are composed of letters only.**\n",
        "\n",
        "\n",
        "```\n",
        "Example:\n",
        "If the following email address is given as input to the program:\n",
        "\n",
        "john@google.com\n",
        "\n",
        "Then, the output of the program should be:\n",
        "\n",
        "john\n",
        "```\n",
        "\n"
      ]
    },
    {
      "cell_type": "code",
      "metadata": {
        "id": "ANzSC09xhxeg",
        "colab": {
          "base_uri": "https://localhost:8080/",
          "height": 54
        },
        "outputId": "7a574b51-0ec0-4ec0-8846-cd60978b39d9"
      },
      "source": [
        "s=input(\"Enter the Email : \")\n",
        "a,b=s.split(\"@\")\n",
        "print(a)"
      ],
      "execution_count": null,
      "outputs": [
        {
          "output_type": "stream",
          "text": [
            "Enter the Email : john@google.com\n",
            "john\n"
          ],
          "name": "stdout"
        }
      ]
    },
    {
      "cell_type": "markdown",
      "metadata": {
        "id": "4UlmkrRuSNER"
      },
      "source": [
        "#Day 17\n",
        "\n",
        "```\n",
        "The Fibonacci Sequence is computed based on the following formula:\n",
        "\n",
        "\n",
        "f(n)=0 if n=0\n",
        "f(n)=1 if n=1\n",
        "f(n)=f(n-1)+f(n-2) if n>1\n",
        "\n",
        "Please write a program to compute the value of f(n) with a given n input by console.\n",
        "\n",
        "Example:\n",
        "If the following n is given as input to the program:\n",
        "\n",
        "7\n",
        "\n",
        "Then, the output of the program should be:\n",
        "\n",
        "13\n",
        "```\n",
        "\n",
        "\n"
      ]
    },
    {
      "cell_type": "code",
      "metadata": {
        "id": "Neoq34taSeFB"
      },
      "source": [
        "def fun(n):\n",
        "  if n==1:\n",
        "    return 0\n",
        "  elif n==2:\n",
        "    return 1\n",
        "  else:\n",
        "    n1=0\n",
        "    n2=1\n",
        "    i=2\n",
        "    while(i<n+1):\n",
        "      temp=n2\n",
        "      n2=n1+n2\n",
        "      n1=temp\n",
        "      i+=1\n",
        "    return n2\n",
        "\n",
        "n=int(input())\n",
        "print(fun(n))\n",
        "0,1,1,2,3,5,8,13"
      ],
      "execution_count": null,
      "outputs": []
    },
    {
      "cell_type": "markdown",
      "metadata": {
        "id": "eTZ9HiB9Fl4K"
      },
      "source": [
        "#Day 18\n",
        "**Given a number z, determine whether the given number is Armstrong number or not**\n",
        "\n",
        "\n",
        "\n",
        "```\n",
        "Input : 153\n",
        "Output : 153 is an Armstrong number.\n",
        "\n",
        "Explanation\n",
        "1*1*1 + 5*5*5 + 3*3*3 = 153\n",
        "```\n",
        "\n"
      ]
    },
    {
      "cell_type": "code",
      "metadata": {
        "id": "qkQAR6dpjvTg",
        "colab": {
          "base_uri": "https://localhost:8080/",
          "height": 54
        },
        "outputId": "556e4eea-ff48-4389-89c4-71365a3389e5"
      },
      "source": [
        "s=input()\n",
        "l=list(map(int,s))\n",
        "res=0\n",
        "for i in l:\n",
        "  res+=i*i*i\n",
        "\n",
        "if(str(res)==s):\n",
        "  print(\"Armstrong number\")\n",
        "else:\n",
        "  print(\"Not a Armstrong number\")"
      ],
      "execution_count": null,
      "outputs": [
        {
          "output_type": "stream",
          "text": [
            "153\n",
            "Armstrong number\n"
          ],
          "name": "stdout"
        }
      ]
    },
    {
      "cell_type": "markdown",
      "metadata": {
        "id": "p4H3omJXsQcD"
      },
      "source": [
        "#Day 19\n",
        "**Find the length of array**\n",
        "\n",
        "\n",
        "\n",
        "```\n",
        "Input : 1,2,3,4\n",
        "Output : 4\n",
        "\n",
        "\n",
        "```\n",
        "\n"
      ]
    },
    {
      "cell_type": "code",
      "metadata": {
        "id": "EE-hFFMRtzTx"
      },
      "source": [
        "l=list(map(int,input().split(\",\")))\n",
        "\n",
        "count=0\n",
        "for i in l:\n",
        "  count+=1\n",
        "\n",
        "\n",
        "print(len(l))\n",
        "print(count)"
      ],
      "execution_count": null,
      "outputs": []
    },
    {
      "cell_type": "markdown",
      "metadata": {
        "id": "c0hthj9EGuvl"
      },
      "source": [
        "#Day 20\n",
        "**Python program to find second largest number in a list**\n",
        "\n",
        "\n",
        "```\n",
        "Input : 10,5,20,2,3\n",
        "Output : 10\n",
        "```\n",
        "\n"
      ]
    },
    {
      "cell_type": "code",
      "metadata": {
        "id": "g1j7qN--H6zg"
      },
      "source": [
        "l=list(map(int,input().split(\",\")))\n",
        "l.sort()\n",
        "#print(l[-2])\n",
        "print(l[len(l)-2])\n"
      ],
      "execution_count": null,
      "outputs": []
    },
    {
      "cell_type": "markdown",
      "metadata": {
        "id": "gZADJfTYYVKR"
      },
      "source": [
        "#Day 21\n",
        "\n",
        "```\n",
        "Define a class which has at least two methods:\n",
        "getString: to get a string from console input\n",
        "printString: to print the string in upper case.\n",
        "Also please include simple test function to test the class methods\n",
        "```\n"
      ]
    },
    {
      "cell_type": "code",
      "metadata": {
        "id": "3TvyeTEoaqDR"
      },
      "source": [
        "class techsiddhar():\n",
        "  def __init__(self):\n",
        "    self.s=\"\"\n",
        "  def getString(self):\n",
        "    self.s=input()\n",
        "  def printString(self):\n",
        "    print(\"Welcome \" + self.s+ \"!\")\n",
        "\n",
        "ts=techsiddhar()\n",
        "ts.getString()\n",
        "ts.printString()"
      ],
      "execution_count": null,
      "outputs": []
    },
    {
      "cell_type": "markdown",
      "metadata": {
        "id": "AT2dFyKtcK49"
      },
      "source": [
        "#Day 22\n",
        "\n",
        "\n",
        "\n",
        "```\n",
        "Count the Number of matching characters in a pair of string\n",
        "Given a pair of non empty strings. Count the number of matching characters in those strings (consider the single count for the character which have duplicates in the strings)\n",
        "\n",
        "\n",
        "Input : str1 = 'abcbc'\n",
        "        str2 = 'cda'\n",
        "Output : 2 \n",
        "(i.e. matching characters :- a,c)\n",
        "```\n",
        "\n",
        "\n"
      ]
    },
    {
      "cell_type": "code",
      "metadata": {
        "id": "CplCEzleeHwU"
      },
      "source": [
        "str1=input()\n",
        "str2=input()\n",
        "\n",
        "str1=set(str1)\n",
        "str2=set(str2)\n",
        "count=0\n",
        "for i in str1:\n",
        "  if i in str2:\n",
        "    count+=1\n",
        "\n",
        "print(count)"
      ],
      "execution_count": null,
      "outputs": []
    },
    {
      "cell_type": "markdown",
      "metadata": {
        "id": "rLh0ZuWp8yQJ"
      },
      "source": [
        "#Day 23\n",
        "\n",
        "**Find length of a string in python**"
      ]
    },
    {
      "cell_type": "code",
      "metadata": {
        "id": "uz3FpKXF-Y5-"
      },
      "source": [
        "s=input(\"Enter the string\")\n",
        "\n",
        "print(\"using len : \"+str(len(s)))\n",
        "\n",
        "s=list(s)\n",
        "count=0\n",
        "for i in s:\n",
        "  count+=1\n",
        "\n",
        "print(\"using for loop : \"+ str(count))"
      ],
      "execution_count": null,
      "outputs": []
    },
    {
      "cell_type": "markdown",
      "metadata": {
        "id": "lN8SRpoaIn5T"
      },
      "source": [
        "#Day 24\n",
        "\n",
        "**Remove Duplicates Function Without using set()**"
      ]
    },
    {
      "cell_type": "code",
      "metadata": {
        "id": "0ElK5cTlKtbZ"
      },
      "source": [
        "def removeduplicates(n):\n",
        "  new=[]\n",
        "  for i in n:\n",
        "    if i not in new:\n",
        "      new.append(i)\n",
        "\n",
        "  return new\n",
        "\n",
        "\n",
        "a=[1,2,3,2,1,3,122,2,8,65,4,6,7]\n",
        "\n",
        "print(\"Using set function : \"+str(set(a)))\n",
        "\n",
        "print(\"using funcion : \"+str(removeduplicates(a)))"
      ],
      "execution_count": null,
      "outputs": []
    },
    {
      "cell_type": "markdown",
      "metadata": {
        "id": "yS-J_C4M8OEp"
      },
      "source": [
        "#Day 25\n",
        "\n",
        "**Find Whether a given number is Positive or Negative**"
      ]
    },
    {
      "cell_type": "code",
      "metadata": {
        "id": "n7RhLSlT_dV4"
      },
      "source": [
        "#num=int(input(\"Enter the number : \"))\n",
        "\n",
        "#if(num<0):\n",
        "#  print(\"Negative number\")\n",
        "\n",
        "#else:\n",
        "#  print(\"Positive number\")\n",
        "\n",
        "\n",
        "num=input(\"Enter the number : \")\n",
        "num=list(num)\n",
        "\n",
        "if '-' in num:\n",
        "  print(\"Negative number\")\n",
        "\n",
        "else:\n",
        "  print(\"Positive number\")"
      ],
      "execution_count": null,
      "outputs": []
    },
    {
      "cell_type": "markdown",
      "metadata": {
        "id": "BZSSLt3IJ09R"
      },
      "source": [
        "#Day 26\n",
        "**Find sum of Digits of a Number**\n",
        "\n",
        "\n",
        "\n",
        "```\n",
        "input : 120\n",
        "output : 3\n",
        "```\n",
        "\n"
      ]
    },
    {
      "cell_type": "code",
      "metadata": {
        "id": "PHY-2dHhRUqm"
      },
      "source": [
        "num=input(\"Enter the value : \")\n",
        "\n",
        "l=[]\n",
        "for i in num:\n",
        "#  sum+=int(i)\n",
        "  l.append(int(i))\n",
        "print(sum(l))"
      ],
      "execution_count": null,
      "outputs": []
    },
    {
      "cell_type": "markdown",
      "metadata": {
        "id": "_gyjiMB3QNTg"
      },
      "source": [
        "#Day 27\n",
        "\n",
        "**Find the reverse of given integer**"
      ]
    },
    {
      "cell_type": "code",
      "metadata": {
        "id": "sOaOmC1bQaUV"
      },
      "source": [
        "a=1230\n",
        "\n",
        "num=a\n",
        "reverse=0\n",
        "while num>0:\n",
        "  re=num%10\n",
        "  reverse=(reverse*10)+re\n",
        "  num=num//10\n",
        "\n",
        "print(reverse)"
      ],
      "execution_count": null,
      "outputs": []
    },
    {
      "cell_type": "markdown",
      "metadata": {
        "id": "dzohQz4pb6vW"
      },
      "source": [
        "#Day 28\n",
        "\n",
        "**Find number is strong number or not!**\n",
        "\n",
        "\n",
        "\n",
        "```\n",
        "Input : 145\n",
        "Output : Strong Number\n",
        "\n",
        "Explanation:\n",
        "1!+4!+5!=145\n",
        "```\n",
        "\n"
      ]
    },
    {
      "cell_type": "code",
      "metadata": {
        "id": "4ZIA45E8gxix"
      },
      "source": [
        "def fact(n):\n",
        "  res=1\n",
        "  for i in range(1,n+1):\n",
        "    res*=i\n",
        "  return res\n",
        "\n",
        "\n",
        "\n",
        "n=input(\"Enter the number : \")\n",
        "l=list(n)\n",
        "total=0\n",
        "for i in l:\n",
        "  total+=fact(int(i))\n",
        "\n",
        "print(total)\n",
        "\n",
        "if(n==str(total)):\n",
        "  print(\"Strong number\")\n",
        "else:\n",
        "  print(\"not a Strong number\")"
      ],
      "execution_count": null,
      "outputs": []
    },
    {
      "cell_type": "markdown",
      "metadata": {
        "id": "wgzFxvRH5znq"
      },
      "source": [
        "#Day 29\n",
        "**Count the number of vowels in a string**\n",
        "\n",
        "\n",
        "\n",
        "```\n",
        "Input : Techsiddhar\n",
        "Output : 3 \n",
        "```\n",
        "\n"
      ]
    },
    {
      "cell_type": "code",
      "metadata": {
        "id": "7eeIYa_L7iDR"
      },
      "source": [
        "s=input(\"Enter the string : \")\n",
        "s=s.lower()\n",
        "count=0\n",
        "vowel=['a','e','i','o','u']\n",
        "for i in s:\n",
        "  if i  in vowel:\n",
        "    count+=1\n",
        "print(count)"
      ],
      "execution_count": null,
      "outputs": []
    },
    {
      "cell_type": "markdown",
      "metadata": {
        "id": "V6Sr6n_LfiXz"
      },
      "source": [
        "#Day 30\n",
        "\n",
        "**Check if two string are Anagram or Not**\n",
        "\n",
        "\n",
        "\n",
        "```\n",
        "Input : listen\n",
        "        silent\n",
        "\n",
        "output : Anagram String\n",
        "```\n",
        "\n"
      ]
    },
    {
      "cell_type": "code",
      "metadata": {
        "id": "6a9FUsUof_BI"
      },
      "source": [
        "a=input(\"Enter the string1 : \")\n",
        "b=input(\"Enter the string2 : \")\n",
        "if(sorted(a)==sorted(b)):\n",
        "  print(\"Anagram string\")\n",
        "else:\n",
        "  print(\"Not Anagram string\")\n",
        "\n",
        "print(sorted(a))\n",
        "print(sorted(b))"
      ],
      "execution_count": null,
      "outputs": []
    },
    {
      "cell_type": "markdown",
      "metadata": {
        "id": "R09OJm3TrBjf"
      },
      "source": [
        "#Day 31\n",
        "**How many letter remove to make a string Anagram**\n",
        "\n",
        "\n",
        "\n",
        "```\n",
        "Input : sky\n",
        "        fly\n",
        "      \n",
        "Output : 4\n",
        "```\n",
        "\n"
      ]
    },
    {
      "cell_type": "code",
      "metadata": {
        "id": "5nGp7jvb07Fm"
      },
      "source": [
        "def makeangram(s1,s2):\n",
        "  res=0\n",
        "  j=s1+s2\n",
        "  un=set(j)\n",
        "  for i in un:\n",
        "    if(s1.count(i)==s2.count(i)):\n",
        "      continue\n",
        "    elif(s1.count(i)>s2.count(i)):\n",
        "      res+=s1.count(i)-s2.count(i)\n",
        "    elif(s1.count(i)<s2.count(i)):\n",
        "      res+=s2.count(i)>s1.count(i)\n",
        "\n",
        "  return res\n",
        "\n",
        "s1=input()\n",
        "s2=input()\n",
        "print(makeangram(s1,s2))"
      ],
      "execution_count": null,
      "outputs": []
    },
    {
      "cell_type": "markdown",
      "metadata": {
        "id": "PCMkGGkO8vAK"
      },
      "source": [
        "#Day 32\n",
        "**Python program to swap two elements in a list**\n",
        "\n",
        "\n",
        "\n",
        "```\n",
        "Input : Enter the list = 13, 35, 22, 10\n",
        "        pos1 = 1\n",
        "        pos2 = 3\n",
        "\n",
        "Output : [22, 35, 13, 10]\n",
        "```\n",
        "\n"
      ]
    },
    {
      "cell_type": "code",
      "metadata": {
        "id": "yHQuCC0UBSrn"
      },
      "source": [
        "l=list(map(int,input(\"Enter the list : \").split(\",\")))\n",
        "pos1=int(input(\"Enter pos1 : \"))\n",
        "pos2=int(input(\"Enter the pos2 : \"))\n",
        "\n",
        "l[pos1-1],l[pos2-1]=l[pos2-1],l[pos1-1]\n",
        "\n",
        "#temp=l[pos1-1]\n",
        "#l[pos1-1]=l[pos2-1]\n",
        "#l[pos2-1]=temp\n",
        "\n",
        "print(l)"
      ],
      "execution_count": null,
      "outputs": []
    },
    {
      "cell_type": "markdown",
      "metadata": {
        "id": "uPit7TY8Q0LA"
      },
      "source": [
        "#Day 33\n",
        "\n",
        "**Common Divisors of Two Numbers**\n",
        "\n",
        "\n",
        "\n",
        "```\n",
        "Input : a = 10\n",
        "        b = 30\n",
        "\n",
        "Output: 4\n",
        "\n",
        "Explain : common divisor are 1,2,5,10\n",
        "```\n",
        "\n"
      ]
    },
    {
      "cell_type": "code",
      "metadata": {
        "id": "t1grPsMeXAlP"
      },
      "source": [
        "a=int(input(\"Enter the a value : \"))\n",
        "b=int(input(\"Enter the b value : \"))\n",
        "count=0\n",
        "\n",
        "for i in range(1,min(a,b)+1):\n",
        "  if(a%i==0 and b%i==0):\n",
        "    count+=1\n",
        "\n",
        "print(count)"
      ],
      "execution_count": null,
      "outputs": []
    },
    {
      "cell_type": "markdown",
      "metadata": {
        "id": "F9_BZvxW2XGo"
      },
      "source": [
        "#Day 34\n",
        "**Difference between sums of odd and even digits**\n",
        "\n",
        "\n",
        "```\n",
        "Input : 1212112\n",
        "Output : Yes\n",
        "Explanation:-\n",
        "the odd position element is 2+2+1=5\n",
        "the even position element is 1+1+1+2=5\n",
        "the difference is 5-5=0.so print yes.\n",
        "\n",
        "Input :12345\n",
        "Output : No\n",
        "Explanation:-\n",
        "the odd position element is 1+3+5=9\n",
        "the even position element is 2+4=6\n",
        "the difference is 9-6=3 not  equal\n",
        "to zero. So print no.\n",
        "\n",
        "```\n",
        "\n",
        "\n"
      ]
    },
    {
      "cell_type": "code",
      "metadata": {
        "id": "V_7kjVCV6lIR"
      },
      "source": [
        "n=input(\"Enter the number : \")\n",
        "odd=0\n",
        "even=0\n",
        "for i in range(len(n)):\n",
        "  if(i%2==0):\n",
        "    even+=int(n[i])\n",
        "  else:\n",
        "    odd+=int(n[i])\n",
        "\n",
        "if((odd-even)==0):\n",
        "  print(\"yes\")\n",
        "else:\n",
        "  print(\"no\")"
      ],
      "execution_count": null,
      "outputs": []
    },
    {
      "cell_type": "markdown",
      "metadata": {
        "id": "tRo2x2OlpAN9"
      },
      "source": [
        "#Day 35\n",
        "**Average of Cubes of first N natural numbers**\n",
        "\n",
        "\n",
        "```\n",
        "Input: N = 2\n",
        "Output: 4.5\n",
        "Explanation:\n",
        "For integer N = 2,\n",
        "We hvae ( 13 + 23 ) = 1 + 8 = 9\n",
        "average = 9 / 2 that is 4.5\n",
        "```\n",
        "\n"
      ]
    },
    {
      "cell_type": "code",
      "metadata": {
        "id": "jpxARwF5sHdr"
      },
      "source": [
        "n=int(input(\"Enter the number : \"))\n",
        "cube=0\n",
        "for i in range(1,n+1):\n",
        "  cube+=i**3\n",
        "\n",
        "print(cube/n)"
      ],
      "execution_count": null,
      "outputs": []
    },
    {
      "cell_type": "markdown",
      "metadata": {
        "id": "a1tR1Wss4dCX"
      },
      "source": [
        "#Day 36\n",
        "\n",
        "**Program for GCD of two numbers**\n",
        "\n",
        "\n",
        "\n",
        "```\n",
        "Input  : 2,4\n",
        "\n",
        "Output : 2\n",
        "```\n",
        "\n"
      ]
    },
    {
      "cell_type": "code",
      "metadata": {
        "id": "gdQVneYEB02j"
      },
      "source": [
        "a,b=map(int,input().split(\",\"))\n",
        "\n",
        "while(b):\n",
        "  a,b=b,a%b\n",
        "print(a)"
      ],
      "execution_count": null,
      "outputs": []
    },
    {
      "cell_type": "markdown",
      "metadata": {
        "id": "BhKO5CKn2dCW"
      },
      "source": [
        "#Day 37\n",
        "**Check if binary representation is palindrome**\n",
        "\n",
        "\n",
        "```\n",
        "Input : n = 9\n",
        "Output : True\n",
        "Binary representation of n=9 is 1001 which \n",
        "is palindrome as well.\n",
        "```\n",
        "\n"
      ]
    },
    {
      "cell_type": "code",
      "metadata": {
        "id": "6RrjlFFn3zoM"
      },
      "source": [
        "n=int(input(\"Enter the number : \"))\n",
        "\n",
        "b=bin(n)\n",
        "b=b[2:]\n",
        "#101\n",
        "\n",
        "if(b==b[::-1]):\n",
        "  print(\"True\")\n",
        "else:\n",
        "  print(\"False\")"
      ],
      "execution_count": null,
      "outputs": []
    },
    {
      "cell_type": "markdown",
      "metadata": {
        "id": "XzHAcBLYL58Y"
      },
      "source": [
        "#Day 38\n",
        "\n",
        "**Find pair with given sum in an array**\n",
        "\n",
        "\n",
        "\n",
        "```\n",
        "Given an unsorted array of integers, find a pair with given sum in it.\n",
        "Input:arr = [8, 7, 2, 5, 3, 1]\n",
        "      sum = 10\n",
        "Output:\n",
        "Pair found at index 0 and 2 (8 + 2)\n",
        "  or\n",
        "Pair found at index 1 and 4 (7 + 3)\n",
        "```\n",
        "\n"
      ]
    },
    {
      "cell_type": "code",
      "metadata": {
        "id": "zhXUAd96NJtv"
      },
      "source": [
        "arr=list(map(int,input(\"Enter the arrya : \").split(\",\")))\n",
        "s=int(input(\"Enter the sum : \"))\n",
        "\n",
        "#o(n*n)\n",
        "#for i in range(0,len(arr)): \n",
        "#  for j in range(i+1,len(arr)):\n",
        "#    if(arr[i]+arr[j]==sum):\n",
        "#      print(\"Pair found at index \",i,\" and \",j,\" (\",arr[i],\" +\",arr[j],\")\")\n",
        "\n",
        "#enumerate o(n)\n",
        "\n",
        "for i,v in enumerate(arr):\n",
        "  if (sum-v) in arr:\n",
        "    print(\"Pair found at index \",i,\" and \",arr.index(sum-v),\" (\",v,\" + \",sum-v,\")\")"
      ],
      "execution_count": null,
      "outputs": []
    },
    {
      "cell_type": "markdown",
      "metadata": {
        "id": "DTewYGpSBVwb"
      },
      "source": [
        "#Day 39\n",
        "\n",
        "**Move all zeros present in an array to the end**\n",
        "\n",
        "\n",
        "\n",
        "```\n",
        "\n",
        "Input:  { 5, 0, 8, 2, 3, 0, 4, 0, 1 }\n",
        "\n",
        "Output: { 5, 8, 2, 3, 4, 1, 0, 0, 0 }\n",
        "```\n",
        "\n"
      ]
    },
    {
      "cell_type": "code",
      "metadata": {
        "id": "LPdA3EQOFu4j"
      },
      "source": [
        "a=list(map(int,input(\"enter the number : \").split(\",\")))\n",
        "k=0\n",
        "for i in a:\n",
        "  if i :\n",
        "    a[k]=i\n",
        "    k+=1\n",
        "for i in range(k,len(a)):\n",
        "  a[i]=0\n",
        "print(a)"
      ],
      "execution_count": null,
      "outputs": []
    },
    {
      "cell_type": "markdown",
      "metadata": {
        "id": "5d9Qn4HtsUDD"
      },
      "source": [
        "#Day 40\n",
        "\n",
        "**Shuffle a given array of elements**\n",
        "\n",
        "\n",
        "\n",
        "```\n",
        "Input:  [1, 2, 3, 4, 5, 6]\n",
        "\n",
        "Output: [6, 2, 3, 1, 4, 5]\n",
        "```\n",
        "\n"
      ]
    },
    {
      "cell_type": "code",
      "metadata": {
        "id": "SnHCX66ttgYq"
      },
      "source": [
        "from random import randrange\n",
        "a=list(map(int,input(\"enter the number : \").split(\",\")))\n",
        "for i in range(len(a)):\n",
        "  j=randrange(i,len(a))\n",
        "  a[i],a[j]=a[j],a[i]\n",
        "\n",
        "print(a)"
      ],
      "execution_count": null,
      "outputs": []
    },
    {
      "cell_type": "markdown",
      "metadata": {
        "id": "0kl16LIe8Lyl"
      },
      "source": [
        "#Day 41\n",
        "**find mirror characters in a string**\n",
        "\n",
        "\n",
        "\n",
        "```\n",
        "Input : N = 3\n",
        "        paradox\n",
        "Output : paizwlc\n",
        "\n",
        "We mirror characters from position 3 to end\n",
        "```\n",
        "\n"
      ]
    },
    {
      "cell_type": "code",
      "metadata": {
        "id": "d2N6xYeYB1yH"
      },
      "source": [
        "n=int(input(\"Enter the number : \"))\n",
        "s=input(\"Enter the string : \")\n",
        "\n",
        "a=\"abcdefghijklmnopqrstuvwxyz\"\n",
        "b=reversed(a)\n",
        "d=dict(zip(a,b))\n",
        "\n",
        "before=s[:n-1]\n",
        "after=s[n-1:]\n",
        "mirror=\"\"\n",
        "for i in range(0,len(after)):\n",
        "  mirror+=d[after[i]]\n",
        "print(before+mirror)\n"
      ],
      "execution_count": null,
      "outputs": []
    },
    {
      "cell_type": "markdown",
      "metadata": {
        "id": "g-C362Dz4i-t"
      },
      "source": [
        "#Day 42\n",
        "**Convert list to Python array**"
      ]
    },
    {
      "cell_type": "code",
      "metadata": {
        "id": "9sPEqRo83C_A"
      },
      "source": [
        "from array import array\n",
        "a=[1,2,3,4]\n",
        "a=array('i',a)\n",
        "print(a)"
      ],
      "execution_count": null,
      "outputs": []
    },
    {
      "cell_type": "markdown",
      "metadata": {
        "id": "e_biC09rMt8b"
      },
      "source": [
        "#Day 43\n",
        "\n",
        "**Define a class named Rectangle which can be constructed by a length and width. The Rectangle class has a method which can compute the area.**\n",
        "\n"
      ]
    },
    {
      "cell_type": "code",
      "metadata": {
        "id": "davvFGcWQWuA"
      },
      "source": [
        "class Rectangle():\n",
        "  def __init__(self,length,width):\n",
        "    self.length=length\n",
        "    self.width=width\n",
        "  def area(self):\n",
        "    return self.length*self.width\n",
        "\n",
        "obj=Rectangle(2,3)\n",
        "obj1=Rectangle(10,2)\n",
        "print(obj.area())\n",
        "\n",
        "print(obj1.area())"
      ],
      "execution_count": null,
      "outputs": []
    },
    {
      "cell_type": "markdown",
      "metadata": {
        "id": "OfFrOZ4VVJfV"
      },
      "source": [
        "#Day 44\n",
        "\n",
        "**Find a Maximum Sum Subarray (Kadane's Algorithm)**\n",
        "\n",
        "\n",
        "\n",
        "\n",
        "```\n",
        "Input : -2, -3, 4, -1, -2, 1, 5, -3\n",
        "\n",
        "Output : 7\n",
        "```\n",
        "\n"
      ]
    },
    {
      "cell_type": "code",
      "metadata": {
        "id": "8HoBcPO-ZY1P"
      },
      "source": [
        "a=list(map(int,input(\"enter the number : \").split(\",\")))\n",
        "\n",
        "def kadane(a):\n",
        "  maxnumber=0\n",
        "  heremax=0\n",
        "  for i in a:\n",
        "    heremax+=i\n",
        "    heremax=max(0,heremax)\n",
        "    maxnumber=max(heremax,maxnumber)\n",
        "  return maxnumber\n",
        "\n",
        "print(kadane(a))"
      ],
      "execution_count": null,
      "outputs": []
    },
    {
      "cell_type": "markdown",
      "metadata": {
        "id": "6rsH_opKWBTE"
      },
      "source": [
        "#Day 45\n",
        "\n",
        "**Check if an Array is Formed Consecutive Integers**\n",
        "\n",
        "\n",
        "\n",
        "\n",
        "```\n",
        "Input : {-1,5,4,2,1,3,0}\n",
        "\n",
        "Output : Array contains Consecutive Integers\n",
        "```\n",
        "\n"
      ]
    },
    {
      "cell_type": "code",
      "metadata": {
        "id": "gmV8uFcDcaeR",
        "colab": {
          "base_uri": "https://localhost:8080/",
          "height": 54
        },
        "outputId": "4f444d17-21a8-4164-9957-d62798bff3a1"
      },
      "source": [
        "a=list(map(int,input(\"enter the number : \").split(\",\")))\n",
        "\n",
        "def cons(a):\n",
        "  ma=max(a)\n",
        "  mi=min(a)\n",
        "\n",
        "  if ma-mi !=len(a)-1:\n",
        "    return False\n",
        "  visit=[]\n",
        "  for i in a:\n",
        "    if i in visit:\n",
        "      return False\n",
        "    visit.append(i)\n",
        "  return True\n",
        "\n",
        "if (cons(a)):\n",
        "  print(\"Array contains Consecutive Integers\")\n",
        "else:\n",
        "  print(\"No Array contains Consecutive Integers\")"
      ],
      "execution_count": null,
      "outputs": [
        {
          "output_type": "stream",
          "text": [
            "enter the number : -1,5,4,2,1,3,0,7\n",
            "No Array contains Consecutive Integers\n"
          ],
          "name": "stdout"
        }
      ]
    },
    {
      "cell_type": "markdown",
      "metadata": {
        "id": "jvvvZWF2uVuO"
      },
      "source": [
        "#Day 46\n",
        "**In-place merge two sorted arrays**\n",
        "\n",
        "Given two sorted arrays X[] and Y[] of size m and n each, merge elements of X[]  with elements of array Y[]  by maintaining the sorted order. i.e. fill X[]  with first m smallest elements and fill Y[]  with remaining elements.\n",
        "\n",
        "\n",
        "\n",
        "```\n",
        "Input:\n",
        "X[] = { 1, 4, 7, 8, 10 }\n",
        "Y[] = { 2, 3, 9 }\n",
        "\n",
        "Output: \n",
        "X[] = { 1, 2, 3, 4, 7 }\n",
        "Y[] = { 8, 9, 10 }\n",
        "```\n",
        "\n"
      ]
    },
    {
      "cell_type": "code",
      "metadata": {
        "id": "gS1Zb2O4yGHx"
      },
      "source": [
        "x=list(map(int,input(\"enter the number : \").split(\",\")))\n",
        "y=list(map(int,input(\"enter the number : \").split(\",\")))\n",
        "\n",
        "temp=x+y\n",
        "temp=sorted(temp)\n",
        "\n",
        "x=temp[:len(x)]\n",
        "y=temp[len(x):]\n",
        "print(x)\n",
        "print(y)"
      ],
      "execution_count": null,
      "outputs": []
    },
    {
      "cell_type": "markdown",
      "metadata": {
        "id": "oFrZF1yeoh-c"
      },
      "source": [
        "#Day 47\n",
        "**Find missing term in Sequence in Logarithmic Time O(log(n))**\n",
        "\n",
        "\n",
        "\n",
        "\n",
        "```\n",
        "Input : [5,7,9,11,15]\n",
        "\n",
        "Output: 13\n",
        "```\n",
        "\n"
      ]
    },
    {
      "cell_type": "code",
      "metadata": {
        "id": "t6RGkoxhpRtf"
      },
      "source": [
        "a=[5,7,9,11,15]\n",
        "\n",
        "\n",
        "\n",
        "def ok(a):\n",
        "  diff=a[-1]-a[0]//len(a)\n",
        "\n",
        "  left=0\n",
        "  right=len(a)-1\n",
        "  while(left<right):\n",
        "    mid=right-left//len(a)\n",
        "    \n",
        "\n",
        "    if(mid+1<len(a) and a[mid]-a[mid-1]!=diff):\n",
        "      return a[mid+1]-diff\n",
        "    if(mid-1>=0 and a[mid+1]-a[mid]!=diff):\n",
        "      return a[mid]+diff\n",
        "    if a[mid]-a[0]//len(a)!=diff:\n",
        "      right=mid-1\n",
        "    else:\n",
        "      left=mid+1\n",
        "\n",
        "print(ok(a))"
      ],
      "execution_count": null,
      "outputs": []
    },
    {
      "cell_type": "markdown",
      "metadata": {
        "id": "rj_FkRR3BaI3"
      },
      "source": [
        "#Day 48\n",
        "\n",
        "**String slicing in Python to rotate a string**\n",
        "\n",
        "\n",
        "\n",
        "```\n",
        "Input : s = \"qwertyu\" \n",
        "        d = 2\n",
        "Output : Left rotation : \"ertyuqw\"\n",
        "         Right rotation : \"yuqwert\"\n",
        "```\n",
        "\n"
      ]
    },
    {
      "cell_type": "code",
      "metadata": {
        "id": "7lbTbzuMEFm5"
      },
      "source": [
        "a = \"sdkjbsdkfs\" \n",
        "d = 2\n",
        "\n",
        "print(\"Left rotation : \"+str(a[d:]+a[:d]))\n",
        "print(\"Right rotation : \"+str(a[-d:]+a[:-d]))"
      ],
      "execution_count": null,
      "outputs": []
    },
    {
      "cell_type": "markdown",
      "metadata": {
        "id": "ARpd3p9_YAzi"
      },
      "source": [
        "#Day 49\n",
        "\n",
        "**Count dictionaries in a list in Python**\n",
        "\n",
        "\n",
        "```\n",
        "Input : l = [10, {‘ok’ : 1}, {‘ok1’ : 2, ‘ok2’ : 3}, 20]\n",
        "\n",
        "Output : 2\n",
        "\n",
        "```\n",
        "\n"
      ]
    },
    {
      "cell_type": "code",
      "metadata": {
        "id": "lILzL9Y3azWz",
        "colab": {
          "base_uri": "https://localhost:8080/",
          "height": 35
        },
        "outputId": "a2d5416c-6523-422f-d072-ee672f0e344a"
      },
      "source": [
        "l=[10, {\"ok\" : 1}, {\"ok1\" : 2, \"ok2\" : 3}, 20,30,1]\n",
        "\n",
        "res=[]\n",
        "#for i in l:\n",
        "#  if(isinstance(i,dict)):\n",
        "#   res.append(i)\n",
        "\n",
        "res=[i for i in l if isinstance(i,dict)]\n",
        "print(len(res))"
      ],
      "execution_count": null,
      "outputs": [
        {
          "output_type": "stream",
          "text": [
            "2\n"
          ],
          "name": "stdout"
        }
      ]
    },
    {
      "cell_type": "markdown",
      "metadata": {
        "id": "_CMRudmEJJ6s"
      },
      "source": [
        "#Day 50\n",
        "\n",
        "**Rod Cutting Problem**\n",
        "\n",
        "Given a rod of length n and list of prices of rod of length i where 1 <= i <= n, find the optimal way to cut rod into smaller rods in order to maximize profit.\n",
        "\n",
        "\n",
        "\n",
        "\n",
        "```\n",
        "Input : length[] = [1, 2, 3, 4, 5, 6, 7, 8]\n",
        "\n",
        "        price [] = [1, 5, 8, 9, 10, 17, 17, 20]\n",
        "\n",
        "        n=4\n",
        "\n",
        "Output : profit is 10\n",
        "```\n",
        "\n"
      ]
    },
    {
      "cell_type": "code",
      "metadata": {
        "id": "h2FJdriGSAHm"
      },
      "source": [
        "def rod(price,n):\n",
        "  if n==0:\n",
        "    return 0\n",
        "  maxval=-1\n",
        "  for i in range(1,n+1):\n",
        "    cost=price[i-1]+rod(price,n-i)\n",
        "\n",
        "    if maxval<cost:\n",
        "      maxval=cost\n",
        "  \n",
        "  return maxval\n",
        "\n",
        "\n",
        "price = [1, 5, 8, 9, 10, 17, 17, 20]\n",
        "n=4\n",
        "\n",
        "print(\"Profit is : \"+str(rod(price,n)))"
      ],
      "execution_count": null,
      "outputs": []
    },
    {
      "cell_type": "markdown",
      "metadata": {
        "id": "1MFcBtlH3pBC"
      },
      "source": [
        "#Day 51\n",
        "\n",
        "**Sort elements by frequency**\n",
        "Print the elements of an array in the decreasing frequency if 2 numbers have same frequency then print the one which came first.\n",
        "\n",
        "\n",
        "```\n",
        "Input:  arr = {2, 5, 2, 8, 5, 6, 8, 8}\n",
        "Output: arr = {8, 8, 8, 2, 2, 5, 5, 6}\n",
        "```\n",
        "\n"
      ]
    },
    {
      "cell_type": "code",
      "metadata": {
        "id": "aKg0QmXPUop7"
      },
      "source": [
        "a=[2, 5, 2, 8, 5, 6, 8, 8]\n",
        "\n",
        "s=set(a)\n",
        "count=[]\n",
        "d=[]\n",
        "for i in s:\n",
        "  d.append(a.count(i))\n",
        "  count.append([a.count(i),i])\n",
        "d=set(d)\n",
        "\n",
        "res=[]\n",
        "for i in d:\n",
        "  temp=[]\n",
        "  for j in count:\n",
        "    if(j[0]==i):\n",
        "      temp.append(j)\n",
        "\n",
        "  temp=sorted(temp)\n",
        "  res.extend(temp[::-1])\n",
        "\n",
        "final=[]\n",
        "for i in res:\n",
        "  final.extend(i[0]*str(i[1]))\n",
        "\n",
        "print(final[::-1])\n",
        "\n",
        "#8, 8, 8, 2, 2, 5, 5, 6"
      ],
      "execution_count": null,
      "outputs": []
    },
    {
      "cell_type": "markdown",
      "metadata": {
        "id": "kWfLoOeeu2dJ"
      },
      "source": [
        "#Day 52\n",
        "\n",
        "**Count Inversions in an array**\n",
        "\n",
        "\n",
        "two elements a[i] and a[j] form an inversion if a[i] > a[j] and i < j\n",
        "\n",
        "\n",
        "\n",
        "```\n",
        "Input: arr = {8, 4, 2, 1}\n",
        "Output: 6\n",
        "\n",
        "Explanation: Given array has six inversions:\n",
        "(8,4), (4,2),(8,2), (8,1), (4,1), (2,1)\n",
        "```\n",
        "\n"
      ]
    },
    {
      "cell_type": "code",
      "metadata": {
        "id": "i46sRXKieGcC"
      },
      "source": [
        "a=[8, 4, 2, 1]\n",
        "count=0\n",
        "for i in range(len(a)):\n",
        "  for j in range(i+1,len(a)):\n",
        "    if(a[i]>a[j]):\n",
        "      #count.append([a[i],a[j]])\n",
        "      count+=1\n",
        "print(count)"
      ],
      "execution_count": null,
      "outputs": []
    },
    {
      "cell_type": "markdown",
      "metadata": {
        "id": "goMF15tmp8Dm"
      },
      "source": [
        "#Day 53\n",
        "\n",
        "**Find minimum difference between any two elements**\n",
        "\n",
        "\n",
        "```\n",
        "Input  : [1, 19, -4, 35, 38, 25, 120];\n",
        "Output : 3\n",
        "\n",
        "Minimum difference is between 35 and 38\n",
        " \n",
        "\n",
        "```\n",
        "\n",
        "\n"
      ]
    },
    {
      "cell_type": "code",
      "metadata": {
        "id": "m3vpEgm3qZGs",
        "colab": {
          "base_uri": "https://localhost:8080/",
          "height": 35
        },
        "outputId": "9c49ffb4-56fd-4a4b-cd13-df1889a54842"
      },
      "source": [
        "a=[1, 19, -4, 35, 38, 25, 120]\n",
        "mi=1000\n",
        "# for i in range(len(a)):\n",
        "#   for j in range(i+1,len(a)):\n",
        "#     if abs(a[i]-a[j])<mi:\n",
        "#       mi=abs(a[i]-a[j])\n",
        "\n",
        "for i in range(len(a)-1):\n",
        "  if abs(a[i]-a[i+1])<mi:\n",
        "    mi=abs(a[i]-a[i+1])\n",
        "\n",
        "print(mi)"
      ],
      "execution_count": null,
      "outputs": [
        {
          "output_type": "stream",
          "text": [
            "3\n"
          ],
          "name": "stdout"
        }
      ]
    },
    {
      "cell_type": "markdown",
      "metadata": {
        "id": "KD3hw4ipV1VG"
      },
      "source": [
        "#Day 54\n",
        "**Chocolate Distribution Problem**\n",
        "\n",
        "Given an array of n integers where each value represents number of chocolates in a packet. Each packet can have variable number of chocolates. There are m students, the task is to distribute chocolate packets such that:\n",
        "\n",
        "Each student gets one packet.\n",
        "\n",
        "The difference between the number of chocolates in packet with maximum chocolates and packet with minimum chocolates given to the students is minimum.\n",
        "\n",
        "```\n",
        "Input : arr= {3, 4, 1, 9, 56, 7, 9, 12}\n",
        "m = 5\n",
        "Output: Minimum Difference is 6\n",
        "The set goes like 3,4,7,9,9 and the output\n",
        "is 9-3 = 6\n",
        "```\n",
        "\n"
      ]
    },
    {
      "cell_type": "code",
      "metadata": {
        "id": "nPmk5NMIXxyG"
      },
      "source": [
        "from itertools import combinations\n",
        "arr=[3, 4, 1, 9, 56, 7, 9, 12]\n",
        "m=5\n",
        "x=[]\n",
        "l=combinations(arr,5)\n",
        "for i in l:\n",
        "  i=sorted(i)\n",
        "  x.append(i[-1]-i[0])\n",
        "print(min(x))"
      ],
      "execution_count": null,
      "outputs": []
    },
    {
      "cell_type": "markdown",
      "metadata": {
        "id": "pJKjeZHtswPc"
      },
      "source": [
        "#Day 55\n",
        "**Sort even-placed elements in increasing and odd-placed in decreasing order**\n",
        "\n",
        "We are given an array of n distinct numbers. The task is to sort all even-placed numbers in increasing and odd-placed numbers in decreasing order. The modified array should contain all sorted even-placed numbers followed by reverse sorted odd-placed numbers\n",
        "\n",
        "\n",
        "\n",
        "```\n",
        "Input: arr= {3, 1, 2, 4, 5, 9, 13, 14, 12}\n",
        "\n",
        "Output: {2, 3, 5, 12, 13, 14, 9, 4, 1}\n",
        "\n",
        "Even-place elements : 3, 2, 5, 13, 12\n",
        "Odd-place elements : 1, 4, 9, 14\n",
        "Even-place elements in increasing order : \n",
        "2, 3, 5, 12, 13\n",
        "Odd-Place elements in decreasing order : \n",
        "14, 9, 4, 1\n",
        "```\n",
        "\n"
      ]
    },
    {
      "cell_type": "code",
      "metadata": {
        "id": "hwg9jPIExOrs"
      },
      "source": [
        "a=[3, 1, 2, 4, 5, 9, 13, 14, 12]\n",
        "even=[]\n",
        "odd=[]\n",
        "for i in range(len(a)):\n",
        "  if (i%2==0):\n",
        "    even.append(a[i])\n",
        "  else:\n",
        "    odd.append(a[i])\n",
        "\n",
        "even=sorted(even)\n",
        "odd=sorted(odd)\n",
        "print(even+odd[::-1])\n",
        "#2, 3, 5, 12, 13, 14, 9, 4, 1"
      ],
      "execution_count": null,
      "outputs": []
    },
    {
      "cell_type": "markdown",
      "metadata": {
        "id": "vTL3WZp7zoPa"
      },
      "source": [
        "#Day 56\n",
        "**Sorting Big Integers**\n",
        "\n",
        "Given a array of n positive integers where each integer can have digits upto 106, print the array elements in ascending order\n",
        "\n",
        "\n",
        "\n",
        "```\n",
        "Input: arr= [3643641264874311, 451234654453211101231, 4510122010112121012121]\n",
        "Output: 3641264874311 451234654453211101231 4510122010112121012121\n",
        "```\n",
        "\n"
      ]
    },
    {
      "cell_type": "code",
      "metadata": {
        "id": "a7QwSm0ShV8s"
      },
      "source": [
        "arr=[\"451234654453211101231\",\"4510122010112121012121\",\"3643641264874311\"]\n",
        "\n",
        "arr.sort(key=lambda x:(len(x),x))\n",
        "print(\" \".join(arr))"
      ],
      "execution_count": null,
      "outputs": []
    },
    {
      "cell_type": "markdown",
      "metadata": {
        "id": "NrEmnleKz9lI"
      },
      "source": [
        "#Day 57\n",
        "**Find Surpasser Count of each element in array**\n",
        "A surpasser of an element of an array is a greater element to its right, therefore x[j] is a surpasser of x[i] if i < j and x[i] < x[j]. The surpasser count of an element is the number of surpassers. Given an array of distinct integers, for each element of the array find its surpasser count i.e. count the number of elements to the right that are greater than that element.\n",
        "\n",
        "\n",
        "\n",
        "```\n",
        "Input:  [2, 7, 5, 3, 0, 8, 1]\n",
        "Output: [4, 1, 1, 1, 2, 0, 0]\n",
        "```\n",
        "\n"
      ]
    },
    {
      "cell_type": "code",
      "metadata": {
        "id": "QrHHmCOoGvGc",
        "colab": {
          "base_uri": "https://localhost:8080/",
          "height": 35
        },
        "outputId": "86852702-91bf-4734-8ad0-85a185458b19"
      },
      "source": [
        "a=[2, 7, 5, 3, 0, 8, 1]\n",
        "count=[]\n",
        "for i in range(len(a)):\n",
        "  temp=0\n",
        "  for j in range(i+1,len(a)):\n",
        "    if(a[i]<a[j]):\n",
        "      temp+=1\n",
        "  count.append(temp)\n",
        "\n",
        "print(count)"
      ],
      "execution_count": null,
      "outputs": [
        {
          "output_type": "stream",
          "text": [
            "[4, 1, 1, 1, 2, 0, 0]\n"
          ],
          "name": "stdout"
        }
      ]
    },
    {
      "cell_type": "markdown",
      "metadata": {
        "id": "6JplnmS-iVj5"
      },
      "source": [
        "#Day 58\n",
        "**Sort an array in wave form**\n",
        "\n",
        "Given an unsorted array of integers, sort the array into a wave like array. An array ‘arr[0..n-1]’ is sorted in wave form if arr[0] >= arr[1] <= arr[2] >= arr[3] <= arr[4] >= …..\n",
        "\n",
        "\n",
        "\n",
        "```\n",
        " Input : a = {3, 6, 5, 10, 7, 20}\n",
        " Output: a = {6, 3, 10, 5, 20, 7} OR\n",
        "                 any other array that is in wave form\n",
        "```\n",
        "\n"
      ]
    },
    {
      "cell_type": "code",
      "metadata": {
        "id": "IAzI4Uvs4GCU",
        "colab": {
          "base_uri": "https://localhost:8080/",
          "height": 35
        },
        "outputId": "49b8eb07-b565-4f61-d8f8-00ab8925ed64"
      },
      "source": [
        "a=[3, 6, 5, 10, 7, 20]\n",
        "a.sort()\n",
        "#a=sorted(a)\n",
        "\n",
        "for i in range(0,len(a),2):\n",
        "  temp=a[i]\n",
        "  a[i]=a[i+1]\n",
        "  a[i+1]=temp\n",
        "  # a[i],a[i+1]=a[i+1],a[i]\n",
        "\n",
        "print(a)"
      ],
      "execution_count": null,
      "outputs": [
        {
          "output_type": "stream",
          "text": [
            "[5, 3, 7, 6, 20, 10]\n"
          ],
          "name": "stdout"
        }
      ]
    },
    {
      "cell_type": "markdown",
      "metadata": {
        "id": "NWy0v8pdRfq_"
      },
      "source": [
        "#Day 59\n",
        "\n",
        "**Sort elements on the basis of number of factors**\n",
        "\n",
        "\n",
        "Given an array of positive integers. Sort the given array in decreasing order of number of factors of each element, i.e., element having the highest number of factors should be the first to be displayed and the number having least number of factors should be the last one. Two elements with equal number of factors should be in the same order as in the original array.\n",
        "\n",
        "\n",
        "\n",
        "```\n",
        "Input : {5, 11, 10, 20, 9, 16, 23}\n",
        "Output : 20 16 10 9 5 11 23\n",
        "Number of distinct factors:\n",
        "For 20 = 6, 16 = 5, 10 = 4, 9 = 3\n",
        "and for 5, 11, 23 = 2 (same number of factors\n",
        "therefore sorted in increasing order of index)\n",
        "```\n",
        "\n"
      ]
    },
    {
      "cell_type": "code",
      "metadata": {
        "id": "sgXzyqRLSpRp"
      },
      "source": [
        "a=[5, 11, 10, 20, 9, 16, 23]\n",
        "d=dict()\n",
        "def factor(n):\n",
        "  count=2\n",
        "  for i in range(2,n):\n",
        "    if(n%i==0):\n",
        "      count+=1\n",
        "  return count\n",
        "\n",
        "for i in a:\n",
        "  factcount=factor(i)\n",
        "  if factcount in d:\n",
        "    d[factcount].append(i)\n",
        "  else:\n",
        "    d[factcount]=[i]\n",
        "print(d)\n",
        "\n",
        "result=[]\n",
        "for i in sorted(d,reverse=True):\n",
        "  result.extend(sorted(d[i]))\n",
        "print(result)\n",
        "#20 16 10 9 5 11 23"
      ],
      "execution_count": null,
      "outputs": []
    },
    {
      "cell_type": "markdown",
      "metadata": {
        "id": "lby6Y6jhTKY2"
      },
      "source": [
        "#Day 60\n",
        "\n",
        "**Program to check if an array is sorted or not**\n",
        "\n",
        "Given an array of size n, write a program to check if it is sorted in ascending order or not. Equal values are allowed in array and two consecutive equal values are considered sorted.\n",
        "\n",
        "\n",
        "\n",
        "```\n",
        "Input : 20 21 45 89 89 90\n",
        "Output : Yes\n",
        "\n",
        "Input : 20 20 78 98 99 97\n",
        "Output : No\n",
        "```\n",
        "\n",
        "\n",
        "\n"
      ]
    },
    {
      "cell_type": "code",
      "metadata": {
        "id": "wFjK4WMWo8lb",
        "colab": {
          "base_uri": "https://localhost:8080/",
          "height": 35
        },
        "outputId": "22904c88-ef98-408a-c9fb-c4a194dfce4e"
      },
      "source": [
        "a=[20, 20 ,78 ,98, 99, 97]\n",
        "# sorta=sorted(a)\n",
        "# print(a)\n",
        "# print(sorta)\n",
        "# if sorta==a:\n",
        "#   print(\"Yes\")\n",
        "# else:\n",
        "#   print(\"No\")\n",
        "\n",
        "res=\"Yes\"\n",
        "for i in range(1,len(a)):\n",
        "  if(a[i]<a[i-1]):\n",
        "    res=\"No\"\n",
        "    break\n",
        "print(res)"
      ],
      "execution_count": null,
      "outputs": [
        {
          "output_type": "stream",
          "text": [
            "No\n"
          ],
          "name": "stdout"
        }
      ]
    },
    {
      "cell_type": "markdown",
      "metadata": {
        "id": "1OTs6uk5bTHq"
      },
      "source": [
        "#Day 61\n",
        "**Retain Numbers in String**\n",
        "\n",
        "we can have a problem in which we need to perform the removal of all the characters other than integers\n",
        "\n",
        "\n",
        "\n",
        "\n",
        "```\n",
        "Input : test_str = \"Hello1 world\"\n",
        "Output : 1\n",
        "```\n",
        "\n"
      ]
    },
    {
      "cell_type": "code",
      "metadata": {
        "id": "7Yidf5earCGb",
        "colab": {
          "base_uri": "https://localhost:8080/",
          "height": 54
        },
        "outputId": "338a66a3-b990-43cb-909e-21f21a78d3ab"
      },
      "source": [
        "s=input(\"Enter the String : \")\n",
        "res=\"\"\n",
        "for i in s:\n",
        "  if(i.isdigit()):\n",
        "    res+=i\n",
        "print(res)"
      ],
      "execution_count": null,
      "outputs": [
        {
          "output_type": "stream",
          "text": [
            "Enter the String : Asffjasbfa124\n",
            "124\n"
          ],
          "name": "stdout"
        }
      ]
    },
    {
      "cell_type": "markdown",
      "metadata": {
        "id": "FofJ1sgifbgI"
      },
      "source": [
        "#Day 62\n",
        "**Group Similar Start and End character words**\n",
        "\n",
        "we can have problem in which we need to group all the words on basis of front and end characters.\n",
        "\n",
        "\n",
        "\n",
        "```\n",
        "The original string is : Techsiddhar is best and bright for programmers\n",
        "The grouped dictionary is : {'Tr': {'echsiddha'}, 'is': {''}, 'bt': {'es', 'righ'}, 'ad': {'n'}, 'fr': {'o'}, 'ps': {'rogrammer'}}\n",
        "```\n",
        "\n"
      ]
    },
    {
      "cell_type": "code",
      "metadata": {
        "id": "W_v1GHzSlt2B",
        "colab": {
          "base_uri": "https://localhost:8080/",
          "height": 54
        },
        "outputId": "f1f95ec1-4406-4707-adbb-0d9581acfd6c"
      },
      "source": [
        "s=list(input().split(\" \"))\n",
        "d=dict()\n",
        "\n",
        "for i in s:\n",
        "  first=i[0]\n",
        "  last=i[-1]\n",
        "  key=first+last\n",
        "  if key in d:\n",
        "    d[key].append(i[1:-1])\n",
        "  else:\n",
        "    d[key]=[i[1:-1]]\n",
        "\n",
        "print(d)"
      ],
      "execution_count": null,
      "outputs": [
        {
          "output_type": "stream",
          "text": [
            "Techsiddhar is best and bright for programmers\n",
            "{'Tr': ['echsiddha'], 'is': [''], 'bt': ['es', 'righ'], 'ad': ['n'], 'fr': ['o'], 'ps': ['rogrammer']}\n"
          ],
          "name": "stdout"
        }
      ]
    },
    {
      "cell_type": "markdown",
      "metadata": {
        "id": "z57SJrnHESZi"
      },
      "source": [
        "#Day 63\n",
        "\n",
        "**Vowel indices in String**\n",
        "\n",
        "problem in which we need to extract indices of vowels in list\n",
        "\n",
        "\n",
        "\n",
        "```\n",
        "Input : Tech Siddhar\n",
        "\n",
        "Output : [1,6,10]\n",
        "```\n",
        "\n"
      ]
    },
    {
      "cell_type": "code",
      "metadata": {
        "id": "HwdUD9stTrzo",
        "colab": {
          "base_uri": "https://localhost:8080/",
          "height": 54
        },
        "outputId": "f01efcfb-da9e-4b37-a226-b61ccbd58e3d"
      },
      "source": [
        "s=input(\"Enter the string :\")\n",
        "vowel=['a','e','i','o','u']\n",
        "l=[]\n",
        "for index in range(len(s)):\n",
        "  if s[index].lower() in vowel:\n",
        "    l.append(index)\n",
        "print(l)"
      ],
      "execution_count": null,
      "outputs": [
        {
          "output_type": "stream",
          "text": [
            "Enter the string :Apple\n",
            "[0, 4]\n"
          ],
          "name": "stdout"
        }
      ]
    },
    {
      "cell_type": "markdown",
      "metadata": {
        "id": "PQ_WahUBjO6u"
      },
      "source": [
        "#Day 64\n",
        "\n",
        "**Create Flat Lists Out Of Lists**\n",
        "\n",
        "To make a simple list out of a list of lists\n",
        "\n",
        "\n",
        "```\n",
        "Input : l= [[1,2],[3,4],[5,6]]\n",
        "\n",
        "Output : [1, 2, 3, 4, 5, 6]\n",
        "```\n",
        "\n",
        "\n"
      ]
    },
    {
      "cell_type": "code",
      "metadata": {
        "id": "9nbkZMHkjr9R",
        "colab": {
          "base_uri": "https://localhost:8080/",
          "height": 35
        },
        "outputId": "f7ad1159-932e-47b1-d669-cbfc4d3b24c1"
      },
      "source": [
        "l=[[1,2],[3,4],[5,6]]\n",
        "# res=[]\n",
        "# for i in l:\n",
        "#   res.extend(i)\n",
        "\n",
        "# print(res)\n",
        "\n",
        "#sum(iterable,start)\n",
        "print(sum(l,[]))"
      ],
      "execution_count": null,
      "outputs": [
        {
          "output_type": "stream",
          "text": [
            "[1, 2, 3, 4, 5, 6]\n"
          ],
          "name": "stdout"
        }
      ]
    },
    {
      "cell_type": "markdown",
      "metadata": {
        "id": "tqeCEJ1DPbw3"
      },
      "source": [
        "#Day 65\n",
        "\n",
        "**Size of string in memory**\n",
        "\n",
        "we require to get the size of the string, i.e the length of it\n",
        "\n",
        "\n",
        "\n",
        "```\n",
        "Input : TechSiddhar\n",
        "\n",
        "Output : 60\n",
        "\n",
        "```\n",
        "\n"
      ]
    },
    {
      "cell_type": "code",
      "metadata": {
        "id": "SH9eSzeoR1w0",
        "colab": {
          "base_uri": "https://localhost:8080/",
          "height": 35
        },
        "outputId": "2dec5627-d0c8-4c44-ac49-308e5858d903"
      },
      "source": [
        "import sys\n",
        "\n",
        "s=\"TechSiddhar\"\n",
        "\n",
        "print(sys.getsizeof(s))"
      ],
      "execution_count": null,
      "outputs": [
        {
          "output_type": "stream",
          "text": [
            "60\n"
          ],
          "name": "stdout"
        }
      ]
    },
    {
      "cell_type": "markdown",
      "metadata": {
        "id": "I5dH86o2bFjb"
      },
      "source": [
        "#Day 66\n",
        "\n",
        "**Program for Check if all digits of a number divide it**\n",
        "\n",
        "Given a number n, find whether all digits of n divide it or not\n",
        "\n",
        "\n",
        "\n",
        "```\n",
        "Input : 122\n",
        "Output : Yes\n",
        "122 % 1 == 0, 122 % 2 == 0, and 122 % 2 == 0.\n",
        "\n",
        "Input : 123\n",
        "Output : No\n",
        "```\n",
        "\n"
      ]
    },
    {
      "cell_type": "code",
      "metadata": {
        "id": "L8vt7i0d-u7A",
        "colab": {
          "base_uri": "https://localhost:8080/",
          "height": 54
        },
        "outputId": "ff258313-0f76-465e-f03d-7a73a9b50c94"
      },
      "source": [
        "number=input(\"Enter the string : \")\n",
        "\n",
        "result=\"Yes\"\n",
        "for i in number:\n",
        "  if (int(number)%int(i)==0):\n",
        "    pass\n",
        "  else:\n",
        "    result=\"No\"\n",
        "    break\n",
        "print(result)\n",
        "\n"
      ],
      "execution_count": null,
      "outputs": [
        {
          "output_type": "stream",
          "text": [
            "Enter the string : 532\n",
            "No\n"
          ],
          "name": "stdout"
        }
      ]
    },
    {
      "cell_type": "markdown",
      "metadata": {
        "id": "VUpwmbE-RMMw"
      },
      "source": [
        "#Day 67\n",
        "\n",
        "**Add two number without using Add operator**\n",
        "\n",
        "\n",
        "\n",
        "```\n",
        "Input : 10 20\n",
        "\n",
        "Output : 30\n",
        "\n",
        "Binary value of 10 : 0101\n",
        "\n",
        "Binary value of 20 : 10100\n",
        "\n",
        "                     11110\n",
        "```\n",
        "\n"
      ]
    },
    {
      "cell_type": "code",
      "metadata": {
        "id": "DC_kyjUEYONP",
        "colab": {
          "base_uri": "https://localhost:8080/",
          "height": 54
        },
        "outputId": "eda7f475-303e-48d9-a792-0658d1e7de90"
      },
      "source": [
        "a=10\n",
        "b=20\n",
        "\n",
        "\n",
        "print(a|b)\n",
        "print(int(\"11110\",2))"
      ],
      "execution_count": null,
      "outputs": [
        {
          "output_type": "stream",
          "text": [
            "30\n",
            "30\n"
          ],
          "name": "stdout"
        }
      ]
    },
    {
      "cell_type": "markdown",
      "metadata": {
        "id": "oxKtowA1qkDR"
      },
      "source": [
        "#Day 68\n",
        "\n",
        "**Smallest of three integers without comparison operators**\n",
        "\n",
        "Write a program to find the smallest of three integers, without using any of the comparison operators.\n",
        "\n",
        "\n",
        "\n",
        "```\n",
        "Input : 10 20 30\n",
        "\n",
        "Output : 10\n",
        "```\n",
        "\n"
      ]
    },
    {
      "cell_type": "code",
      "metadata": {
        "id": "zpT2GmTzrZQ6",
        "colab": {
          "base_uri": "https://localhost:8080/",
          "height": 35
        },
        "outputId": "65bba946-90d9-49db-a918-6588d79d002c"
      },
      "source": [
        "a=17372\n",
        "b=235235\n",
        "c=32335\n",
        "\n",
        "\n",
        "# if (a<b and a<c):\n",
        "#   print(a)\n",
        "# elif (b<a and b<c):\n",
        "#   print(b)\n",
        "# else:\n",
        "#   print(c)\n",
        "count=0\n",
        "while(a and b and c):\n",
        "  a-=1\n",
        "  b-=1\n",
        "  c-=1\n",
        "  count+=1\n",
        "print(count)\n"
      ],
      "execution_count": null,
      "outputs": [
        {
          "output_type": "stream",
          "text": [
            "17372\n"
          ],
          "name": "stdout"
        }
      ]
    },
    {
      "cell_type": "markdown",
      "metadata": {
        "id": "N-3ds280vBk7"
      },
      "source": [
        "#Day 69\n",
        "\n",
        "**Check if binary representations of two numbers are anagram**\n",
        "\n",
        "\n",
        "\n",
        "\n",
        "```\n",
        "Input : a = 8, b = 4 \n",
        "Output : Yes\n",
        "```\n",
        "\n"
      ]
    },
    {
      "cell_type": "code",
      "metadata": {
        "id": "LSmzo-5L4XLI",
        "colab": {
          "base_uri": "https://localhost:8080/",
          "height": 35
        },
        "outputId": "6f52b3b5-6b34-43dc-b658-623d00052e2c"
      },
      "source": [
        "from collections import Counter\n",
        "\n",
        "a=8\n",
        "b=4\n",
        "\n",
        "abin=bin(a)[2:]\n",
        "bbin=bin(b)[2:]\n",
        "\n",
        "diff=abs(len(abin)-len(bbin))\n",
        "if(len(abin)<len(bbin)):\n",
        "  abin=diff*'0'+abin\n",
        "else:\n",
        "  bbin=diff*'0'+bbin\n",
        "num1=Counter(abin)\n",
        "num2=Counter(bbin)\n",
        "\n",
        "\n",
        "if(num1==num2):\n",
        "  print(\"yes\")\n",
        "else:\n",
        "  print(\"NO\")"
      ],
      "execution_count": null,
      "outputs": [
        {
          "output_type": "stream",
          "text": [
            "yes\n"
          ],
          "name": "stdout"
        }
      ]
    },
    {
      "cell_type": "markdown",
      "metadata": {
        "id": "CfEMzW3N-gAK"
      },
      "source": [
        "#Day 70\n",
        "\n",
        "**Remove duplicate values in dictionary**\n",
        "\n",
        "we need to perform the removal of all the duplicate values of dictionary, and we are not concerned if any key get removed in the process\n",
        "\n",
        "\n",
        "\n",
        "```\n",
        "Input : {\"tech\":20,\"is\":20,\"siddhar\":10,\"Youtube\":12,\"channel\":15}\n",
        "\n",
        "Output : {\"tech\":20,\"siddhar\":10,\"Youtube\":12,\"channel\":15}\n",
        "```\n",
        "\n"
      ]
    },
    {
      "cell_type": "code",
      "metadata": {
        "id": "pl2pq_qDEmdz",
        "colab": {
          "base_uri": "https://localhost:8080/",
          "height": 35
        },
        "outputId": "fef215de-a4a8-46e1-dd31-0bd08af254c9"
      },
      "source": [
        "d= {\"tech\":20,\"is\":20,\"siddhar\":10,\"Youtube\":12,\"channel\":15}\n",
        "\n",
        "temp=[]\n",
        "ans={}\n",
        "for key in d:\n",
        "  if d[key] not in temp:\n",
        "    temp.append(d[key])\n",
        "    ans[key]=d[key]\n",
        "\n",
        "print(ans)"
      ],
      "execution_count": null,
      "outputs": [
        {
          "output_type": "stream",
          "text": [
            "{'tech': 20, 'siddhar': 10, 'Youtube': 12, 'channel': 15}\n"
          ],
          "name": "stdout"
        }
      ]
    },
    {
      "cell_type": "markdown",
      "metadata": {
        "id": "hibQZiq7neAC"
      },
      "source": [
        "#Day 71\n",
        "\n",
        "**Check if two strings are Rotationally Equivalent**\n",
        "\n",
        "check if one string can be derived from other upon left or right rotation\n",
        "\n",
        "\n",
        "\n",
        "```\n",
        "Input : str1 = ‘siddhar’, str2 = ‘ddharsi’\n",
        "Output : Yes\n",
        "\n",
        "\n",
        "```\n",
        "\n"
      ]
    },
    {
      "cell_type": "code",
      "metadata": {
        "id": "1wwZMQCzxsBm",
        "colab": {
          "base_uri": "https://localhost:8080/",
          "height": 35
        },
        "outputId": "8a32011f-188f-48aa-f28c-f3830d2f3a09"
      },
      "source": [
        "str1=\"siddhar\"\n",
        "str2=\"ddharsi\"\n",
        "l=[]\n",
        "for i in range(len(str1)):\n",
        "  l.append(str1[i:]+str1[:i])\n",
        "  # if str1[i:]+str1[:i]==str2:\n",
        "  #   print(\"Yes\")\n",
        "\n",
        "if str2 in l:\n",
        "  print(\"yes\")\n",
        "else:\n",
        "  print(\"No\")"
      ],
      "execution_count": null,
      "outputs": [
        {
          "output_type": "stream",
          "text": [
            "yes\n"
          ],
          "name": "stdout"
        }
      ]
    },
    {
      "cell_type": "markdown",
      "metadata": {
        "id": "RRPGnToKPR2y"
      },
      "source": [
        "#Day 72\n",
        "\n",
        "**Find Words with both alphabets and numbers**\n",
        "\n",
        "we can have problem in which we need to extract certain words with contain both numbers and alphabets\n",
        "\n",
        "\n",
        "\n",
        "```\n",
        "Input : Tech12 Sid11dhar i3s Bes1t progr88amming YouTub5e chan6nel i3n tamilnadu or w3orld\n",
        "\n",
        "Output : Tech12 Sid11dhar i3s Bes1t progr88amming YouTub5e chan6nel i3n w3orld\n",
        "\n",
        "```\n",
        "\n"
      ]
    },
    {
      "cell_type": "code",
      "metadata": {
        "id": "QxqzKYZvUPxk",
        "colab": {
          "base_uri": "https://localhost:8080/",
          "height": 35
        },
        "outputId": "2142a809-5cdf-4cbb-8825-2c5f1fd297e7"
      },
      "source": [
        "s=\"Tech12 Sid11dhar i3s Bes1t progr88amming YouTub5e chan6nel i3n tamilnadu or w3orld\"\n",
        "\n",
        "l=list(s.split(\" \"))\n",
        "temp=\"\"\n",
        "for i in l:\n",
        "  if any(c.isalpha() for c in i) and any(c.isdigit() for c in i):\n",
        "    temp+=i\n",
        "    temp+=\" \"\n",
        "print(temp)"
      ],
      "execution_count": null,
      "outputs": [
        {
          "output_type": "stream",
          "text": [
            "Tech12 Sid11dhar i3s Bes1t progr88amming YouTub5e chan6nel i3n w3orld \n"
          ],
          "name": "stdout"
        }
      ]
    },
    {
      "cell_type": "markdown",
      "metadata": {
        "id": "Ci5-Z4ZFtdXi"
      },
      "source": [
        "#Day 73\n",
        "\n",
        "**Subtract two list elements if element in first list is greater**\n",
        "\n",
        "Given two list, If element in first list in greater than element in second list, then subtract it, else return the element of first list only.\n",
        "\n",
        "\n",
        "\n",
        "\n",
        "```\n",
        "Input:\n",
        "l1 = [10, 20, 30, 40, 50, 60]\n",
        "l2 = [60, 50, 40, 30, 20, 10]\n",
        "\n",
        "Output:\n",
        "[10, 20, 30, 10, 30, 50]\n",
        "```\n",
        "\n"
      ]
    },
    {
      "cell_type": "code",
      "metadata": {
        "id": "LwuVo4rJzN20",
        "colab": {
          "base_uri": "https://localhost:8080/",
          "height": 35
        },
        "outputId": "14b5fc23-59d8-4075-b6cb-086daeb339b2"
      },
      "source": [
        "l1 = [10, 20, 30, 40, 50, 60]\n",
        "l2 = [60, 50, 40, 30, 20, 10]\n",
        "\n",
        "\n",
        "\n",
        "for i in range(len(l1)):\n",
        "  if(l1[i]>l2[i]):\n",
        "    l1[i]-=l2[i]\n",
        "print(l1)"
      ],
      "execution_count": null,
      "outputs": [
        {
          "output_type": "stream",
          "text": [
            "[10, 20, 30, 10, 30, 50]\n"
          ],
          "name": "stdout"
        }
      ]
    },
    {
      "cell_type": "markdown",
      "metadata": {
        "id": "Q1wxg4w_q1v3"
      },
      "source": [
        "#Day 74\n",
        "\n",
        "check if the given string is IPv4 or IPv6 or Invalid\n",
        "\n",
        "\n",
        "\n",
        "\n",
        "```\n",
        "Input : “192.168.0.1”\n",
        "Output : IPv4\n",
        "Explanation : It is a valid IPv4 address\n",
        "\n",
        "Input : “2001:0db8:85a3:0000:0000:8a2e:0370:7334”\n",
        "Output : IPv6\n",
        "Explanation : It is a valid IPv6 address\n",
        "\n",
        "Input : “255.32.555.5”\n",
        "Output : Invalid\n",
        "Explanation : It is an invalid IPv4 address as the 3rd octet value(i.e 555) is greater 255.\n",
        "```\n",
        "\n"
      ]
    },
    {
      "cell_type": "code",
      "metadata": {
        "id": "iZNUoqkD6JTg"
      },
      "source": [
        "from ipaddress import ip_address,IPv4Address\n",
        "\n",
        "ip=input()\n",
        "print(type(ip_address(ip)))\n",
        "try:\n",
        "  if(type(ip_address(ip)) is IPv4Address):\n",
        "    print(\"IPv4\")\n",
        "  else:\n",
        "    print(\"IPv6\")\n",
        "except:\n",
        "  print(\"Invalid\")"
      ],
      "execution_count": null,
      "outputs": []
    },
    {
      "cell_type": "markdown",
      "metadata": {
        "id": "fiElfp4qE7qE"
      },
      "source": [
        "#Day 75\n",
        "\n",
        "**find the Strongest Neighbour**\n",
        "\n",
        "Given an array arr[] of N positive integers. The task is to find the maximum for every adjacent pair in the array.\n",
        "\n",
        "\n",
        "\n",
        "```\n",
        "Input: 1 2 2 3 4 5\n",
        "Output: 2 2 3 4 5\n",
        "\n",
        "Input: 5 5\n",
        "Output: 5\n",
        "```\n",
        "\n"
      ]
    },
    {
      "cell_type": "code",
      "metadata": {
        "id": "r1SPjQhZdkhF",
        "colab": {
          "base_uri": "https://localhost:8080/",
          "height": 54
        },
        "outputId": "c8336210-8bba-40bb-cc48-c54ab907de42"
      },
      "source": [
        "l=list(map(int,input().split(\" \")))\n",
        "l.sort()\n",
        "res=[]\n",
        "for i in range(len(l)-1):\n",
        "  res.append(max(l[i],l[i+1]))\n",
        "\n",
        "print(res)"
      ],
      "execution_count": null,
      "outputs": [
        {
          "output_type": "stream",
          "text": [
            "1 2 2 3 4 5\n",
            "[2, 2, 3, 4, 5]\n"
          ],
          "name": "stdout"
        }
      ]
    },
    {
      "cell_type": "markdown",
      "metadata": {
        "id": "fk1K0NU24g3o"
      },
      "source": [
        "#Day 76\n",
        "\n",
        "**Intersection of two String**\n",
        "\n",
        "One of the string operations can be computing the intersection of two strings i.e, output the common values that appear in both the strings\n",
        "\n",
        "\n",
        "\n",
        "```\n",
        "Input  : str1=\"Techsiddhar\"\n",
        "         str2=\"YouTube Channel\"\n",
        "\n",
        "Output : Teha\n",
        "```\n",
        "\n"
      ]
    },
    {
      "cell_type": "code",
      "metadata": {
        "id": "Gs6CVSiTAzeN",
        "colab": {
          "base_uri": "https://localhost:8080/",
          "height": 35
        },
        "outputId": "6f59aec0-b2d5-4400-8fbd-8e7e010fa567"
      },
      "source": [
        "str1=\"Techsiddhar\"\n",
        "str2=\"YouTube Channel\"\n",
        "\n",
        "ans=\"\"\n",
        "for i in str1:\n",
        "  if i in str2 and i not in ans:\n",
        "    ans+=i\n",
        "print(ans)"
      ],
      "execution_count": null,
      "outputs": [
        {
          "output_type": "stream",
          "text": [
            "Teha\n"
          ],
          "name": "stdout"
        }
      ]
    },
    {
      "cell_type": "markdown",
      "metadata": {
        "id": "acLuxNnUHn2L"
      },
      "source": [
        "#Day 77\n",
        "\n",
        "**Selective Key Values Summation**\n",
        "\n",
        "we can have a problem in which we desire to get summation of certain keys’ values in dictionary\n",
        "\n",
        "\n",
        "\n",
        "```\n",
        "Input : test_dict = {'tech' : 50, 'siddhar' : 50, 'youtube' : 7}\n",
        "        \n",
        "        key_list =['tech', 'siddhar']\n",
        "\n",
        "Output : 100\n",
        "\n",
        "```\n",
        "\n"
      ]
    },
    {
      "cell_type": "code",
      "metadata": {
        "id": "WkejTGfeIyJe",
        "colab": {
          "base_uri": "https://localhost:8080/",
          "height": 35
        },
        "outputId": "f63610e2-63eb-430b-8c36-839b62205c0f"
      },
      "source": [
        "test_dict = {'tech' : 50, 'siddhar' : 50, 'youtube' : 7}\n",
        " \n",
        "key_list =['tech', 'siddhar']\n",
        "ans=0\n",
        "for key in key_list:\n",
        "  if key in test_dict:\n",
        "    ans+=test_dict[key]\n",
        "print(ans)"
      ],
      "execution_count": null,
      "outputs": [
        {
          "output_type": "stream",
          "text": [
            "100\n"
          ],
          "name": "stdout"
        }
      ]
    },
    {
      "cell_type": "markdown",
      "metadata": {
        "id": "SSNSjoNM7piz"
      },
      "source": [
        "#Day 78\n",
        "\n",
        "**Filter Range Length Tuples**\n",
        "\n",
        "we might desire to filter records in such a way in which we need to discard records that do not contains exact number of elements required to constitute a record and lie in a range\n",
        "\n",
        "\n",
        "\n",
        "```\n",
        "Input  : (4, ), (2, 87), (10, 16, 19), (1,2,2,6,3,3)(1,5, 6, 8, 2), (1, 0)\n",
        "         start=2\n",
        "         end=3\n",
        "      \n",
        "Output : (2, 87), (10, 16, 19), (1, 0)\n",
        "```\n",
        "\n"
      ]
    },
    {
      "cell_type": "code",
      "metadata": {
        "id": "QDjaKEAxP1Pq",
        "colab": {
          "base_uri": "https://localhost:8080/",
          "height": 35
        },
        "outputId": "b5c51e0e-ca8d-4529-f9b7-213be264a3bb"
      },
      "source": [
        "l=[(4, ), (2, 87), (10, 16, 19), (1,2,2,6,3,3),(1,5, 6, 8, 2), (1, 0)]\n",
        "start=2\n",
        "end=3\n",
        "\n",
        "# for i in l:\n",
        "#   if len(i)>=start and len(i)<=end:\n",
        "#     print(i)\n",
        "\n",
        "\n",
        "#lambada,filter\n",
        "\n",
        "res=list(filter(lambda element : len(element)>=start and len(element)<=end,l))\n",
        "print(res)"
      ],
      "execution_count": null,
      "outputs": [
        {
          "output_type": "stream",
          "text": [
            "[(2, 87), (10, 16, 19), (1, 0)]\n"
          ],
          "name": "stdout"
        }
      ]
    },
    {
      "cell_type": "markdown",
      "metadata": {
        "id": "OmewjzRm9JZW"
      },
      "source": [
        "#Day 79\n",
        "\n",
        "**XOR operation**\n",
        "\n",
        "\n",
        "we can have a problem in which we may need to perform mathematical bitwise XOR operation\n",
        "\n",
        "\n",
        "\n",
        "```\n",
        "Input  : (10, 4, 6, 9)\n",
        "         (5, 2, 3, 3)\n",
        "\n",
        "Output : (15, 6, 5, 10)\n",
        "```\n",
        "\n",
        "\n",
        "\n",
        "\n",
        "![alt text](https://www.codespeedy.com/wp-content/uploads/2019/08/Screenshot-from-2019-08-04-12-01-49.png)"
      ]
    },
    {
      "cell_type": "code",
      "metadata": {
        "id": "Ln0nZPlde8t2",
        "colab": {
          "base_uri": "https://localhost:8080/",
          "height": 90
        },
        "outputId": "d9c0704d-5d75-4598-c587-5dd4e2b0f834"
      },
      "source": [
        "a=(10, 4, 6, 9)\n",
        "b=(5, 2, 3, 3)\n",
        "\n",
        "for i in range(len(a)):\n",
        "  print(a[i]^b[i])"
      ],
      "execution_count": null,
      "outputs": [
        {
          "output_type": "stream",
          "text": [
            "15\n",
            "6\n",
            "5\n",
            "10\n"
          ],
          "name": "stdout"
        }
      ]
    },
    {
      "cell_type": "markdown",
      "metadata": {
        "id": "uQ0ajM0R8mCD"
      },
      "source": [
        "#Day 80\n",
        "\n",
        "**Assign Reversed Values in Dictionary**\n",
        "\n",
        "Given a dictionary, assign each key, values after reverting the values of dictionary\n",
        "\n",
        "\n",
        "\n",
        "\n",
        "```\n",
        "Input : {1 : 4, 2 : 5, 3 : 6}\n",
        "\n",
        "Output : {1 : 6, 2 : 5, 3 : 4}\n",
        "```\n",
        "\n"
      ]
    },
    {
      "cell_type": "code",
      "metadata": {
        "id": "jtirm3gqjJX8",
        "colab": {
          "base_uri": "https://localhost:8080/",
          "height": 35
        },
        "outputId": "c46e8d4b-5c6b-40d0-aa77-dd04467b6620"
      },
      "source": [
        "d={1 : 4, 2 : 5, 3 : 6}\n",
        "\n",
        "rev=list(d.values())\n",
        "rev=rev[::-1]\n",
        "index=0\n",
        "for key in d:\n",
        "  d[key]=rev[index]\n",
        "  index+=1\n",
        "print(d)"
      ],
      "execution_count": null,
      "outputs": [
        {
          "output_type": "stream",
          "text": [
            "{1: 6, 2: 5, 3: 4}\n"
          ],
          "name": "stdout"
        }
      ]
    },
    {
      "cell_type": "markdown",
      "metadata": {
        "id": "g1vznXNawJv8"
      },
      "source": [
        "#Day 81\n",
        "\n",
        "**Get next key in Dictionary**\n",
        "\n",
        "we can have problem in which we need to extract the next key in order of dictionary\n",
        "\n",
        "\n",
        "\n",
        "```\n",
        "Input  : {'techsiddhar': 1, 'youtube': 2, 'channel':3 }\n",
        "          key =\"youtube\"\n",
        "\n",
        "Output : channel\n",
        "```\n",
        "\n"
      ]
    },
    {
      "cell_type": "code",
      "metadata": {
        "id": "tLdUb4yoyOgq",
        "colab": {
          "base_uri": "https://localhost:8080/",
          "height": 35
        },
        "outputId": "c45c6f00-0b4e-4f3d-bbbc-a61cfa0da5ae"
      },
      "source": [
        "d={'techsiddhar': 1, 'youtube': 2, 'channel':3 }\n",
        "key =\"techsiddhar\"\n",
        "\n",
        "ld=list(d)\n",
        "try :\n",
        "  if key in d:\n",
        "    print(ld[ld.index(key)+1])\n",
        "  else:\n",
        "    print(\"Not Found\")\n",
        "except:\n",
        "  print(\"Error\")"
      ],
      "execution_count": null,
      "outputs": [
        {
          "output_type": "stream",
          "text": [
            "youtube\n"
          ],
          "name": "stdout"
        }
      ]
    },
    {
      "cell_type": "markdown",
      "metadata": {
        "id": "sEF9wDpazweE"
      },
      "source": [
        "#Day 82\n",
        "\n",
        "**Remove digits from Dictionary String Values List**\n",
        "\n",
        "\n",
        "Given list of dictionaries with string list values, remove all the numerics from all strings\n",
        "\n",
        "\n",
        "\n",
        "```\n",
        "Input : {‘tech’ : [“te3ch is prefix”, “siddhar i7s suffix”], ‘youtube’ : [“you7tube ch99annel ”, “Tamil la0nguage”]}\n",
        "\n",
        "\n",
        "Output : {‘tech’ : [“tech is prefix”, “siddhar is suffix”], ‘youtube’ : [“youtube channel ”, “Tamil language”]}\n",
        "```\n",
        "\n"
      ]
    },
    {
      "cell_type": "code",
      "metadata": {
        "id": "ZWha6Gv3-7T7",
        "colab": {
          "base_uri": "https://localhost:8080/",
          "height": 35
        },
        "outputId": "9de542b2-d14a-4ec0-ac72-1ca6553faf87"
      },
      "source": [
        "import re\n",
        "d={\"tech\" : [\"te3ch is prefix\", \"siddhar i7s suffix\"], \"youtube\" : [\"you7tube ch99annel \", \"Tamil la0nguage\"]}\n",
        "\n",
        "res={key:[re.sub(\"\\d\",'',item) for item in value]for key,value in d.items()}\n",
        "\n",
        "print(res)"
      ],
      "execution_count": null,
      "outputs": [
        {
          "output_type": "stream",
          "text": [
            "{'tech': ['tech is prefix', 'siddhar is suffix'], 'youtube': ['youtube channel ', 'Tamil language']}\n"
          ],
          "name": "stdout"
        }
      ]
    },
    {
      "cell_type": "markdown",
      "metadata": {
        "id": "WmGlJPu3PIPm"
      },
      "source": [
        "#Day 83\n",
        "\n",
        "**We count 35 heads and 94 legs among the chickens and rabbits in a farm. How many rabbits and how many chickens do we have?**\n",
        "\n"
      ]
    },
    {
      "cell_type": "code",
      "metadata": {
        "id": "9-wR5QXrvVRD",
        "colab": {
          "base_uri": "https://localhost:8080/",
          "height": 54
        },
        "outputId": "cd388ee6-6791-4b02-a4cb-41bcc0c43101"
      },
      "source": [
        "h=35\n",
        "l=94\n",
        "\n",
        "\n",
        "for i in range(1,h+1):\n",
        "  j=h-i\n",
        "  if (i*2 + j*4 == l):\n",
        "    \n",
        "    print(i,j)\n",
        "\n"
      ],
      "execution_count": null,
      "outputs": [
        {
          "output_type": "stream",
          "text": [
            "23 12\n",
            "46 48\n"
          ],
          "name": "stdout"
        }
      ]
    },
    {
      "cell_type": "markdown",
      "metadata": {
        "id": "gqe7f7XVMAPO"
      },
      "source": [
        "#Day 84\n",
        "\n",
        "Define a class Person and its two child classes: Male and Female. All classes have a method \"getGender\" which can print \"Male\" for Male class and \"Female\" for Female class.\n"
      ]
    },
    {
      "cell_type": "code",
      "metadata": {
        "id": "X9w_B0nGOV2W",
        "colab": {
          "base_uri": "https://localhost:8080/",
          "height": 54
        },
        "outputId": "2289e333-fc1a-4f21-eba5-5a99541704b2"
      },
      "source": [
        "class Person():\n",
        "  def getGender(self):\n",
        "    return \"Unkown\"\n",
        "\n",
        "class Male(Person):\n",
        "  def getGender(self):\n",
        "    return \"Male\"\n",
        "\n",
        "class Female(Person):\n",
        "  def getGender(self):\n",
        "    return \"Female\"\n",
        "\n",
        "male=Male()\n",
        "female=Female()\n",
        "print(male.getGender())\n",
        "print(female.getGender())"
      ],
      "execution_count": null,
      "outputs": [
        {
          "output_type": "stream",
          "text": [
            "Male\n",
            "Female\n"
          ],
          "name": "stdout"
        }
      ]
    },
    {
      "cell_type": "markdown",
      "metadata": {
        "id": "aSvUTmW-e64n"
      },
      "source": [
        "#Day 85\n",
        "\n",
        "Please write Program without using if/else statements to verify that every number in the list [2,4,6,8] is even"
      ]
    },
    {
      "cell_type": "code",
      "metadata": {
        "id": "LBCwFGJSkSM7"
      },
      "source": [
        ""
      ],
      "execution_count": null,
      "outputs": []
    },
    {
      "cell_type": "code",
      "metadata": {
        "id": "q_M0TN4yjk3G",
        "colab": {
          "base_uri": "https://localhost:8080/",
          "height": 35
        },
        "outputId": "804b4848-8731-435e-94bd-0d02a3cddc9f"
      },
      "source": [
        "l=[2,4,6,8]\n",
        "try:\n",
        "  for i in l:\n",
        "    assert i%2==0\n",
        "\n",
        "  print(\"Even\")\n",
        "except:\n",
        "  print(\"Odd\")"
      ],
      "execution_count": null,
      "outputs": [
        {
          "output_type": "stream",
          "text": [
            "Even\n"
          ],
          "name": "stdout"
        }
      ]
    },
    {
      "cell_type": "markdown",
      "metadata": {
        "id": "0ywBLG9Xo8Uq"
      },
      "source": [
        "#Day 86\n",
        "\n",
        "**Zipping two unequal length list in dictionary**\n",
        "\n",
        "Given two lists of possibly unequal lengths, the task is to zip two lists in dictionary such that the list with shorter length will repeat itself.\n",
        "\n",
        "\n",
        "\n",
        "```\n",
        "Input : ['a', 'b', 'c', 'd', 'e'] \n",
        "\n",
        "        [1, 2, 3] \n",
        "\n",
        "\n",
        "Output : {'a': 1, 'b': 2, 'c': 3, 'd': 1, 'e': 2}\n",
        "```\n",
        "\n"
      ]
    },
    {
      "cell_type": "code",
      "metadata": {
        "id": "HHGkl-s0rxDQ",
        "colab": {
          "base_uri": "https://localhost:8080/",
          "height": 35
        },
        "outputId": "fc64f10a-1e22-47e3-d1cb-82af5753f039"
      },
      "source": [
        "from itertools import cycle\n",
        "\n",
        "l1=['a', 'b', 'c', 'd', 'e'] \n",
        " \n",
        "l2=[1, 2, 3] \n",
        "\n",
        "res=dict(zip(l1,cycle(l2)))\n",
        "\n",
        "print(res)"
      ],
      "execution_count": null,
      "outputs": [
        {
          "output_type": "stream",
          "text": [
            "{'a': 1, 'b': 2, 'c': 3, 'd': 1, 'e': 2}\n"
          ],
          "name": "stdout"
        }
      ]
    },
    {
      "cell_type": "markdown",
      "metadata": {
        "id": "qg_o7hXDtnNg"
      },
      "source": [
        "#Day 87\n",
        "\n",
        "**Intersect two dictionaries through keys**\n",
        "\n",
        "Given two dictionaries, the task is to find the intersection of these two dictionaries through keys\n",
        "\n",
        "\n",
        "```\n",
        "Input  : {‘vashu’: 5, ‘manjeet’: 10, ‘nikhil’: 1, ‘akshat’: 15}\n",
        "\n",
        "         {‘nikhil’: 1, ‘me’: 56, ‘akshat’: 15}\n",
        "\n",
        "Output : {‘nikhil’: 1, ‘akshat’: 15}\n",
        "```\n",
        "\n"
      ]
    },
    {
      "cell_type": "code",
      "metadata": {
        "id": "fACDIheBvrMh",
        "colab": {
          "base_uri": "https://localhost:8080/",
          "height": 35
        },
        "outputId": "fe8d9ca6-ea95-4664-fab0-276b493df675"
      },
      "source": [
        "d1={'vashu': 5, 'manjeet': 10, 'nikhil': 1, 'akshat': 15}\n",
        " \n",
        "d2={'nikhil': 1, 'me': 56, 'akshat': 15}\n",
        "\n",
        "res={}\n",
        "\n",
        "# for key in d1:\n",
        "#   if key in d2:\n",
        "#     res[key]=d1[key]\n",
        "# print(res)\n",
        "\n",
        "\n",
        "print(dict(d1.items()& d2.items()))"
      ],
      "execution_count": null,
      "outputs": [
        {
          "output_type": "stream",
          "text": [
            "{'akshat': 15, 'nikhil': 1}\n"
          ],
          "name": "stdout"
        }
      ]
    },
    {
      "cell_type": "markdown",
      "metadata": {
        "id": "Vy6ohVEi_FN7"
      },
      "source": [
        "#Day 88\n",
        "\n",
        "**Please write a program to print the running time of execution of \"Tech Siddhar\" for 100 times**"
      ]
    },
    {
      "cell_type": "code",
      "metadata": {
        "id": "OoSziaqEELs4",
        "colab": {
          "base_uri": "https://localhost:8080/",
          "height": 35
        },
        "outputId": "af3478d0-528c-4054-b445-0f59a8a6d514"
      },
      "source": [
        "from timeit import Timer\n",
        "\n",
        "t=Timer(\"for i in range(100): 'Tech Siddhar'\")\n",
        "\n",
        "print(t.timeit())"
      ],
      "execution_count": null,
      "outputs": [
        {
          "output_type": "stream",
          "text": [
            "1.3834251600001153\n"
          ],
          "name": "stdout"
        }
      ]
    },
    {
      "cell_type": "markdown",
      "metadata": {
        "id": "Onec1BAwYVpn"
      },
      "source": [
        "#Day 89\n",
        "\n",
        "**Given an array arr[] of N non-negative integers representing height of blocks at index i as Ai where the width of each block is 1. Compute how much water can be trapped in between blocks after raining. Structure is like below:**\n",
        "\n",
        "\n",
        "\n",
        "```\n",
        "| |\n",
        "|_|\n",
        "```\n",
        "\n",
        "\n",
        "\n",
        "\n",
        "**We can trap 2 units of water in the middle gap**\n",
        "\n",
        "\n",
        "**The first line of input contains an integer T denoting the number of test cases. The description of T test cases follows. Each test case contains an integer N denoting the size of the array, followed by N space separated numbers to be stored in array.**\n",
        "\n",
        "![watertrap.png](data:image/png;base64,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)\n",
        "\n",
        "```\n",
        "Input:\n",
        "2\n",
        "4\n",
        "7 4 0 9\n",
        "3\n",
        "6 9 9\n",
        "\n",
        "Output:\n",
        "10\n",
        "0\n",
        "```\n",
        "\n"
      ]
    },
    {
      "cell_type": "code",
      "metadata": {
        "id": "rZ1LxfBPlZbF",
        "colab": {
          "base_uri": "https://localhost:8080/",
          "height": 90
        },
        "outputId": "aff6344f-4f7c-4d3d-f584-45bbbdbc3e68"
      },
      "source": [
        "t=int(input(\"Enter your testcase : \"))\n",
        "\n",
        "for i in range(t):\n",
        "  n=input()\n",
        "  l=list(map(int,input().split(\" \")))\n",
        "  l.sort()\n",
        "  ls=sorted(list(set(l)))\n",
        "  ma=ls[-2]\n",
        "  res=0\n",
        "  for i in l:\n",
        "    if i <ma:\n",
        "      res+=ma-i\n",
        "  print(res)"
      ],
      "execution_count": null,
      "outputs": [
        {
          "output_type": "stream",
          "text": [
            "Enter your testcase : 1\n",
            "4\n",
            "7 4 0 9\n",
            "10\n"
          ],
          "name": "stdout"
        }
      ]
    },
    {
      "cell_type": "markdown",
      "metadata": {
        "id": "N82A4zk6KQX6"
      },
      "source": [
        "#Day 90\n",
        "\n",
        "**Given an array of positive integers. Your task is to find the leaders in the array.**\n",
        "\n",
        "**Note: An element of array is leader if it is greater than or equal to all the elements to its right side. Also, the rightmost element is always a leader.**\n",
        "\n",
        "**The first line of input contains an integer T denoting the number of test cases. The description of T test cases follows.The first line of each test case contains a single integer N denoting the size of array.The second line contains N space-separated integers A1, A2, ..., AN denoting the elements of the array.**\n",
        "\n",
        "\n",
        "\n",
        "```\n",
        "Input:\n",
        "3\n",
        "6\n",
        "16 17 4 3 5 2\n",
        "5\n",
        "1 2 3 4 0\n",
        "5\n",
        "7 4 5 7 3\n",
        "Output:\n",
        "17 5 2\n",
        "4 0\n",
        "7 7 3\n",
        "```\n",
        "\n"
      ]
    },
    {
      "cell_type": "code",
      "metadata": {
        "id": "AHICSBr9TfTN",
        "colab": {
          "base_uri": "https://localhost:8080/",
          "height": 90
        },
        "outputId": "1ae1ee9f-18b9-47a7-e3e0-9e043fe75e21"
      },
      "source": [
        "t=int(input())\n",
        "for i in range(t):\n",
        "  n=input()\n",
        "  l=list(map(int,input().split(\" \")))\n",
        "  res=[]\n",
        "  for i in range(len(l)-1):\n",
        "    if l[i]>=max(l[i+1:]):\n",
        "      res.append(l[i])\n",
        "  res.append(l[-1])\n",
        "  print(res)"
      ],
      "execution_count": null,
      "outputs": [
        {
          "output_type": "stream",
          "text": [
            "1\n",
            "3\n",
            "16 17 4 3 5 2\n",
            "[17, 5, 2]\n"
          ],
          "name": "stdout"
        }
      ]
    },
    {
      "cell_type": "markdown",
      "metadata": {
        "id": "PNUTrBi6f8DX"
      },
      "source": [
        "#Day 91\n",
        "\n",
        "**Last index of One**\n",
        "\n",
        "**Given a string S consisting only '0's and '1's,  print the last index of the '1' present in it.**\n",
        "\n",
        "**First line of the input contains the number of test cases T, T lines follow each containing a stream of characters.**\n",
        "\n",
        "\n",
        "```\n",
        "Input:\n",
        "2\n",
        "00001\n",
        "0\n",
        "Output:\n",
        "4\n",
        "-1\n",
        "```\n",
        "\n"
      ]
    },
    {
      "cell_type": "code",
      "metadata": {
        "id": "e_uxlVvcFLJt"
      },
      "source": [
        "t=int(input())\n",
        "\n",
        "for i in range(t):\n",
        "    n=input()\n",
        "    if '0' in n:\n",
        "        flag=-1\n",
        "        for i in range(1,len(n)+1):\n",
        "            \n",
        "            if n[-i]==\"1\":\n",
        "              \n",
        "                if i==len(n):\n",
        "                    \n",
        "                    flag=0\n",
        "                else:\n",
        "                    flag=len(n)-i\n",
        "                break\n",
        "        \n",
        "        print(flag)\n",
        "    else:\n",
        "        print(len(n)-1)"
      ],
      "execution_count": null,
      "outputs": []
    },
    {
      "cell_type": "markdown",
      "metadata": {
        "id": "N93vZcodjOqL"
      },
      "source": [
        "#Day 92\n",
        "\n",
        "**Given an array arr[] and a number K where K is smaller than size of array, the task is to find the Kth smallest element in the given array. It is given that all array elements are distinct.**\n",
        "\n",
        "**The first line of input contains an integer T, denoting the number of testcases. Then T test cases follow. Each test case consists of three lines. First line of each testcase contains an integer N denoting size of the array. Second line contains N space separated integer denoting elements of the array. Third line of the test case contains an integer K.**\n",
        "\n",
        "\n",
        "\n",
        "\n",
        "```\n",
        "Input:\n",
        "2\n",
        "6\n",
        "7 10 4 3 20 15\n",
        "3\n",
        "5\n",
        "7 10 4 20 15\n",
        "4\n",
        "Output:\n",
        "7\n",
        "15\n",
        "```\n",
        "\n"
      ]
    },
    {
      "cell_type": "code",
      "metadata": {
        "id": "6wyVqbtilx0i",
        "colab": {
          "base_uri": "https://localhost:8080/",
          "height": 181
        },
        "outputId": "acea8e60-e5ad-4b17-ddae-04473cc5bd87"
      },
      "source": [
        "t=int(input())\n",
        "\n",
        "for i in range(t):\n",
        "  n=input()\n",
        "  l=list(map(int,input().split(\" \")))\n",
        "\n",
        "  l=sorted(l)\n",
        "  k=int(input())\n",
        "  print(l[k-1])"
      ],
      "execution_count": null,
      "outputs": [
        {
          "output_type": "stream",
          "text": [
            "2\n",
            "6\n",
            "7 10 4 3 20 15\n",
            "3\n",
            "7\n",
            "5\n",
            "7 10 4 20 15\n",
            "4\n",
            "15\n"
          ],
          "name": "stdout"
        }
      ]
    },
    {
      "cell_type": "markdown",
      "metadata": {
        "id": "znmL_50KhrQS"
      },
      "source": [
        "#Day 93\n",
        "\n",
        "**Comparing arrays**\n",
        "\n",
        "\n",
        "**This problem helps one to understand the key concepts of an array(list) in Python. Two arrays are said to be the same if they contain the same elements and in the same order. However, in this problem, we will compare two arrays to see if they are same, but with a slight twist. Here, two arrays are the same if the elements of one array are squares of elements of other arrays and regardless of the order. Consider two arrays a and b.**\n",
        "\n",
        "\n",
        "\n",
        "```\n",
        "Input  : a = [121, 144, 19, 161, 19, 144, 19, 11]\n",
        "         b = [121, 14641, 20736, 361, 25921, 361, 20736, 361]\n",
        "\n",
        "Output : True\n",
        "```\n",
        "\n"
      ]
    },
    {
      "cell_type": "code",
      "metadata": {
        "id": "YLskgJZ6m89G",
        "colab": {
          "base_uri": "https://localhost:8080/",
          "height": 72
        },
        "outputId": "1c144ac9-c50a-4bb8-ead4-51d20129069f"
      },
      "source": [
        "a = [121, 144, 19, 161, 19, 144, 19, 11]\n",
        "b = [121, 14641, 20736, 361, 25921, 361, 20736, 361]\n",
        "\n",
        "a.sort()\n",
        "b.sort()\n",
        "flag=True\n",
        "for i in range(len(a)):\n",
        "  if((a[i]**2)==b[i]):\n",
        "    pass\n",
        "  else:\n",
        "    flag=False\n",
        "    break\n",
        "if(flag):\n",
        "  print(flag)\n",
        "else:\n",
        "  print(flag)\n",
        "print(a)\n",
        "print(b)"
      ],
      "execution_count": null,
      "outputs": [
        {
          "output_type": "stream",
          "text": [
            "True\n",
            "[11, 19, 19, 19, 121, 144, 144, 161]\n",
            "[121, 361, 361, 361, 14641, 20736, 20736, 25921]\n"
          ],
          "name": "stdout"
        }
      ]
    },
    {
      "cell_type": "markdown",
      "metadata": {
        "id": "PK0GBz_Uyck6"
      },
      "source": [
        "#Day 94\n",
        "\n",
        "**Givens Two number N and K, our task is to subtract a number K from N until number(N) is greater than zero, once the N becomes negative or zero then we start adding K until that number become the original number(N).\n",
        "Note : Not allow to use any loop.**\n",
        "\n",
        "\n",
        "\n",
        "```\n",
        "Input : N=15,k=5\n",
        "\n",
        "\n",
        "Output : 15 10 5 0 5 10 15 \n",
        "```\n",
        "\n"
      ]
    },
    {
      "cell_type": "code",
      "metadata": {
        "id": "SjjWUW-U-5Xg",
        "colab": {
          "base_uri": "https://localhost:8080/",
          "height": 35
        },
        "outputId": "8633b81f-7f45-455d-ac7a-d57e599cc3d7"
      },
      "source": [
        "n=20\n",
        "k=3\n",
        "\n",
        "def ans(n,k,end,flag):\n",
        "  print(n,end=\" \")\n",
        "\n",
        "  if n<=0:\n",
        "    flag=False\n",
        "  if flag==False and n==end:\n",
        "    return \n",
        "\n",
        "  if flag:\n",
        "    ans(n-k,k,end,flag)\n",
        "  \n",
        "  if not flag:\n",
        "    ans(n+k,k,end,flag)\n",
        "\n",
        "\n",
        "ans(n,k,n,True)"
      ],
      "execution_count": null,
      "outputs": [
        {
          "output_type": "stream",
          "text": [
            "20 17 14 11 8 5 2 -1 2 5 8 11 14 17 20 "
          ],
          "name": "stdout"
        }
      ]
    },
    {
      "cell_type": "markdown",
      "metadata": {
        "id": "t74F-hP9zMEx"
      },
      "source": [
        "#Day 95\n",
        "\n",
        "**Check if a triangle of positive area is possible with the given angles**\n",
        "\n",
        "\n",
        "**Given three angles. The task is to check if it is possible to have a triangle of positive area with these angles. If it is possible print “YES” else print “NO”.**\n",
        "\n",
        "\n",
        "\n",
        "\n",
        "```\n",
        "Input : ang1 = 50, ang2 = 60, ang3 = 70 \n",
        "Output : YES\n",
        "\n",
        "Input : ang1 = 50, ang2 = 65, ang3 = 80\n",
        "Output : NO\n",
        "```\n",
        "\n"
      ]
    },
    {
      "cell_type": "code",
      "metadata": {
        "id": "ksdlDG7p2MVZ",
        "colab": {
          "base_uri": "https://localhost:8080/",
          "height": 35
        },
        "outputId": "13ca4ff1-006f-41bf-b773-f75b1335505d"
      },
      "source": [
        "ang1 = 50\n",
        "ang2 = 65\n",
        "ang3 = 80\n",
        "\n",
        "if (ang1!=0 and ang2!=0 and ang3!=0 and ang1+ang2+ang3==180):\n",
        "  if (ang1+ang2)>=ang3 and (ang2+ang3)>=ang1 and (ang3+ang1)>=ang2:\n",
        "    print(\"YES\")\n",
        "\n",
        "\n",
        "else:\n",
        "  print(\"NO\")"
      ],
      "execution_count": null,
      "outputs": [
        {
          "output_type": "stream",
          "text": [
            "NO\n"
          ],
          "name": "stdout"
        }
      ]
    },
    {
      "cell_type": "markdown",
      "metadata": {
        "id": "Msx2-1vghnLJ"
      },
      "source": [
        "#Day 96\n",
        "\n",
        "**Find minimum sum of factors of number**\n",
        "\n",
        "\n",
        "\n",
        "```\n",
        "Input : 12\n",
        "Output : 7\n",
        "sum of factors in different ways.\n",
        "12 = 12 * 1 = 12 + 1 = 13\n",
        "12 = 2 * 6 = 2 + 6 = 8\n",
        "12 = 3 * 4 = 3 + 4 = 7\n",
        "12 = 2 * 2 * 3 = 2 + 2 + 3 = 7\n",
        "Therefore minimum sum is 7\n",
        "\n",
        "Input : 105\n",
        "Output : 15\n",
        "```\n",
        "\n"
      ]
    },
    {
      "cell_type": "code",
      "metadata": {
        "id": "3od9EpyduNtj",
        "colab": {
          "base_uri": "https://localhost:8080/",
          "height": 35
        },
        "outputId": "e7a22cd1-bd28-48fd-dab1-a7c3cc7f6878"
      },
      "source": [
        "n=105\n",
        "\n",
        "def minsumfactor(n):\n",
        "  s=0\n",
        "\n",
        "  i=2\n",
        "  while(i*i<=n):\n",
        "    while(n%i==0):\n",
        "      s+=i\n",
        "      n//=i\n",
        "    i+=1\n",
        "  s+=n\n",
        "  return s\n",
        "print(minsumfactor(n))"
      ],
      "execution_count": null,
      "outputs": [
        {
          "output_type": "stream",
          "text": [
            "15\n"
          ],
          "name": "stdout"
        }
      ]
    },
    {
      "cell_type": "markdown",
      "metadata": {
        "id": "JcRXxyQmRFpp"
      },
      "source": [
        "#Day 97\n",
        "\n",
        "**Find largest prime factor of a number**\n",
        "\n",
        "\n",
        "\n",
        "```\n",
        "Input: 6\n",
        "Output: 3\n",
        "Explanation\n",
        "Prime factor of 6 are- 2, 3\n",
        "Largest of them is 3\n",
        "\n",
        "Input: 15\n",
        "Output: 5\n",
        "\n",
        "\n",
        "Input : 25698751364526\n",
        "```\n",
        "\n"
      ]
    },
    {
      "cell_type": "code",
      "metadata": {
        "id": "bwldvJDWZodF",
        "colab": {
          "base_uri": "https://localhost:8080/",
          "height": 35
        },
        "outputId": "2c0f13c4-319f-47c3-f5a4-963034354102"
      },
      "source": [
        "from math import sqrt\n",
        "n=25698751364526\n",
        "\n",
        "maxvalue=-1\n",
        "\n",
        "for i in range(2,int(sqrt(n)+1)):\n",
        "  while(n%i==0):\n",
        "    maxvalue=i\n",
        "    n/=i\n",
        "print(maxvalue)"
      ],
      "execution_count": null,
      "outputs": [
        {
          "output_type": "stream",
          "text": [
            "328513\n"
          ],
          "name": "stdout"
        }
      ]
    },
    {
      "cell_type": "markdown",
      "metadata": {
        "id": "MrS1O4X2cHME"
      },
      "source": [
        "#Day 98\n",
        "\n",
        "**check if the list contains three consecutive common numbers in Python**\n",
        "\n",
        "\n",
        "\n",
        "```\n",
        "Input : 4, 5, 5, 5, 3, 8\n",
        "\n",
        "Output: 5\n",
        "\n",
        "Input : 1, 1, 1, 64, 23, 64, 22, 22, 22\n",
        "\n",
        "Output : 1, 22\n",
        "```\n"
      ]
    },
    {
      "cell_type": "code",
      "metadata": {
        "id": "aWkpWz3mNyF-",
        "colab": {
          "base_uri": "https://localhost:8080/",
          "height": 54
        },
        "outputId": "95fdbc48-58a6-498e-97a4-61214f1f1824"
      },
      "source": [
        "l=[1, 1, 1, 64, 23, 64, 22, 22, 22]\n",
        "for i in range(0,len(l)-2):\n",
        "  if(l[i]==l[i+1] and l[i+1]==l[i+2]):\n",
        "    print(l[i])"
      ],
      "execution_count": null,
      "outputs": [
        {
          "output_type": "stream",
          "text": [
            "1\n",
            "22\n"
          ],
          "name": "stdout"
        }
      ]
    },
    {
      "cell_type": "markdown",
      "metadata": {
        "id": "vwprDsVsOzd9"
      },
      "source": [
        "#Day 99\n",
        "\n",
        "**Substitute character with its occurrence**\n",
        "\n",
        "\n",
        "\n",
        "```\n",
        "Input : Tech siddhar is Tamil programming YouTube channel\n",
        "\n",
        "        T\n",
        "\n",
        "Output : 1ech siddhar is 2amil programming You3ube channel\n",
        "```\n",
        "\n"
      ]
    },
    {
      "cell_type": "code",
      "metadata": {
        "id": "3RCk2zJsR59u",
        "colab": {
          "base_uri": "https://localhost:8080/",
          "height": 35
        },
        "outputId": "dd89e18b-8bed-4626-9221-893ed546500d"
      },
      "source": [
        "s=\"Tech siddhar is Tamil programming YouTube channel\"\n",
        "res=\"\"\n",
        "t=\"T\"\n",
        "count=0\n",
        "for i in s:\n",
        "  if i==t:\n",
        "    count+=1\n",
        "    res+=str(count)\n",
        "  else:\n",
        "    res+=i\n",
        "print(res)"
      ],
      "execution_count": null,
      "outputs": [
        {
          "output_type": "stream",
          "text": [
            "1ech siddhar is 2amil programming You3ube channel\n"
          ],
          "name": "stdout"
        }
      ]
    },
    {
      "cell_type": "markdown",
      "metadata": {
        "id": "mRbe7myISyVi"
      },
      "source": [
        "#Day 100\n",
        "\n",
        "**Create an OTP by squaring and concatenating the odd digits of a number**\n",
        "\n",
        "\n",
        "\n",
        "```\n",
        "Input: 4365188\n",
        "Output: 9256\n",
        "\n",
        "Input: 123456\n",
        "Output: 4163\n",
        "```\n",
        "\n"
      ]
    },
    {
      "cell_type": "code",
      "metadata": {
        "id": "pTxNqpEEUaTI",
        "colab": {
          "base_uri": "https://localhost:8080/",
          "height": 35
        },
        "outputId": "8991febc-50f2-4e08-da12-562ed2533689"
      },
      "source": [
        "n=\"123456\"\n",
        "res=\"\"\n",
        "for i in range(len(n)):\n",
        "  if(i%2!=0):\n",
        "    s=int(n[i])*int(n[i])\n",
        "    res+=str(s)\n",
        "print(res[:4])"
      ],
      "execution_count": null,
      "outputs": [
        {
          "output_type": "stream",
          "text": [
            "4163\n"
          ],
          "name": "stdout"
        }
      ]
    }
  ]
}